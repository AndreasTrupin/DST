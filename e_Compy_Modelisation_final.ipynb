{
  "nbformat": 4,
  "nbformat_minor": 5,
  "metadata": {
    "kernelspec": {
      "display_name": "Python 3",
      "language": "python",
      "name": "python3"
    },
    "language_info": {
      "codemirror_mode": {
        "name": "ipython",
        "version": 3
      },
      "file_extension": ".py",
      "mimetype": "text/x-python",
      "name": "python",
      "nbconvert_exporter": "python",
      "pygments_lexer": "ipython3",
      "version": "3.8.8"
    },
    "colab": {
      "name": "e-Compy_Modelisation_final.ipynb",
      "provenance": [],
      "collapsed_sections": [
        "jxHkaB90r6Xd",
        "NfQhU5SoB44V",
        "EU7XxFQoCjO_",
        "YxyE3ky8CukG",
        "2OQX6XdIC3pT"
      ],
      "include_colab_link": true
    }
  },
  "cells": [
    {
      "cell_type": "markdown",
      "metadata": {
        "id": "view-in-github",
        "colab_type": "text"
      },
      "source": [
        "<a href=\"https://colab.research.google.com/github/AndreasTrupin/DST/blob/main/e_Compy_Modelisation_final.ipynb\" target=\"_parent\"><img src=\"https://colab.research.google.com/assets/colab-badge.svg\" alt=\"Open In Colab\"/></a>"
      ]
    },
    {
      "cell_type": "markdown",
      "metadata": {
        "id": "3458f742"
      },
      "source": [
        "# Importation des packages et des datasets"
      ],
      "id": "3458f742"
    },
    {
      "cell_type": "code",
      "metadata": {
        "scrolled": true,
        "id": "98d57201"
      },
      "source": [
        "import numpy as np\n",
        "import pandas as pd\n",
        "import matplotlib.pyplot as plt\n",
        "%matplotlib inline\n",
        "import seaborn as sns\n",
        "import matplotlib as mlp\n",
        "from sklearn.cluster import KMeans\n",
        "from sklearn.preprocessing import StandardScaler"
      ],
      "id": "98d57201",
      "execution_count": null,
      "outputs": []
    },
    {
      "cell_type": "code",
      "metadata": {
        "colab": {
          "base_uri": "https://localhost:8080/"
        },
        "id": "MSgqgom6-tb2",
        "outputId": "c8189e2f-da73-47dd-f6ab-92563f048755"
      },
      "source": [
        "from google.colab import drive\n",
        "drive.mount('/content/drive')"
      ],
      "id": "MSgqgom6-tb2",
      "execution_count": null,
      "outputs": [
        {
          "output_type": "stream",
          "name": "stdout",
          "text": [
            "Mounted at /content/drive\n"
          ]
        }
      ]
    },
    {
      "cell_type": "code",
      "metadata": {
        "scrolled": true,
        "id": "e98e723c"
      },
      "source": [
        "# Import des données\n",
        "events = pd.read_csv('events.csv')\n"
      ],
      "id": "e98e723c",
      "execution_count": null,
      "outputs": []
    },
    {
      "cell_type": "code",
      "metadata": {
        "id": "DHlTizh1EY7G"
      },
 
      ],
      "id": "DHlTizh1EY7G",
      "execution_count": null,
      "outputs": []
    },
    {
      "cell_type": "code",
      "metadata": {
        "colab": {
          "base_uri": "https://localhost:8080/",
          "height": 206
        },
        "id": "a13e2f6f",
        "outputId": "7804936a-99e0-46b0-d0fa-0a1547c69b87"
      },
      "source": [
        "# Décomposer la date en année, mois, jour et heure. A voir pour une exploitation future dans la table event\n",
        "events['heure_event']= pd.to_datetime(events['timestamp'], unit = 'ms')\n",
        "events['jour'] = events['heure_event'] .dt.day\n",
        "events['mois'] = events['heure_event'] .dt.month\n",
        "events['annee'] = events['heure_event'] .dt.year\n",
        "events['heure'] = events['heure_event'] .dt.hour\n",
        "events.head()"
      ],
      "id": "a13e2f6f",
      "execution_count": null,
      "outputs": [
        {
          "output_type": "execute_result",
          "data": {
            "text/html": [
              "<div>\n",
              "<style scoped>\n",
              "    .dataframe tbody tr th:only-of-type {\n",
              "        vertical-align: middle;\n",
              "    }\n",
              "\n",
              "    .dataframe tbody tr th {\n",
              "        vertical-align: top;\n",
              "    }\n",
              "\n",
              "    .dataframe thead th {\n",
              "        text-align: right;\n",
              "    }\n",
              "</style>\n",
              "<table border=\"1\" class=\"dataframe\">\n",
              "  <thead>\n",
              "    <tr style=\"text-align: right;\">\n",
              "      <th></th>\n",
              "      <th>timestamp</th>\n",
              "      <th>visitorid</th>\n",
              "      <th>event</th>\n",
              "      <th>itemid</th>\n",
              "      <th>transactionid</th>\n",
              "      <th>heure_event</th>\n",
              "      <th>jour</th>\n",
              "      <th>mois</th>\n",
              "      <th>annee</th>\n",
              "      <th>heure</th>\n",
              "    </tr>\n",
              "  </thead>\n",
              "  <tbody>\n",
              "    <tr>\n",
              "      <th>0</th>\n",
              "      <td>1433221332117</td>\n",
              "      <td>257597</td>\n",
              "      <td>view</td>\n",
              "      <td>355908</td>\n",
              "      <td>NaN</td>\n",
              "      <td>2015-06-02 05:02:12.117</td>\n",
              "      <td>2</td>\n",
              "      <td>6</td>\n",
              "      <td>2015</td>\n",
              "      <td>5</td>\n",
              "    </tr>\n",
              "    <tr>\n",
              "      <th>1</th>\n",
              "      <td>1433224214164</td>\n",
              "      <td>992329</td>\n",
              "      <td>view</td>\n",
              "      <td>248676</td>\n",
              "      <td>NaN</td>\n",
              "      <td>2015-06-02 05:50:14.164</td>\n",
              "      <td>2</td>\n",
              "      <td>6</td>\n",
              "      <td>2015</td>\n",
              "      <td>5</td>\n",
              "    </tr>\n",
              "    <tr>\n",
              "      <th>2</th>\n",
              "      <td>1433221999827</td>\n",
              "      <td>111016</td>\n",
              "      <td>view</td>\n",
              "      <td>318965</td>\n",
              "      <td>NaN</td>\n",
              "      <td>2015-06-02 05:13:19.827</td>\n",
              "      <td>2</td>\n",
              "      <td>6</td>\n",
              "      <td>2015</td>\n",
              "      <td>5</td>\n",
              "    </tr>\n",
              "    <tr>\n",
              "      <th>3</th>\n",
              "      <td>1433221955914</td>\n",
              "      <td>483717</td>\n",
              "      <td>view</td>\n",
              "      <td>253185</td>\n",
              "      <td>NaN</td>\n",
              "      <td>2015-06-02 05:12:35.914</td>\n",
              "      <td>2</td>\n",
              "      <td>6</td>\n",
              "      <td>2015</td>\n",
              "      <td>5</td>\n",
              "    </tr>\n",
              "    <tr>\n",
              "      <th>4</th>\n",
              "      <td>1433221337106</td>\n",
              "      <td>951259</td>\n",
              "      <td>view</td>\n",
              "      <td>367447</td>\n",
              "      <td>NaN</td>\n",
              "      <td>2015-06-02 05:02:17.106</td>\n",
              "      <td>2</td>\n",
              "      <td>6</td>\n",
              "      <td>2015</td>\n",
              "      <td>5</td>\n",
              "    </tr>\n",
              "  </tbody>\n",
              "</table>\n",
              "</div>"
            ],
            "text/plain": [
              "       timestamp  visitorid event  itemid  ...  jour mois  annee  heure\n",
              "0  1433221332117     257597  view  355908  ...     2    6   2015      5\n",
              "1  1433224214164     992329  view  248676  ...     2    6   2015      5\n",
              "2  1433221999827     111016  view  318965  ...     2    6   2015      5\n",
              "3  1433221955914     483717  view  253185  ...     2    6   2015      5\n",
              "4  1433221337106     951259  view  367447  ...     2    6   2015      5\n",
              "\n",
              "[5 rows x 10 columns]"
            ]
          },
          "metadata": {},
          "execution_count": 4
        }
      ]
    },
    {
      "cell_type": "markdown",
      "metadata": {
        "id": "be475a84"
      },
      "source": [
        "# **Modèle : Clustering des produits**"
      ],
      "id": "be475a84"
    },
    {
      "cell_type": "code",
      "metadata": {
        "colab": {
          "base_uri": "https://localhost:8080/",
          "height": 363
        },
        "id": "819793cc",
        "outputId": "1d1b22e9-2619-4db1-acc5-3f8aa303ec71"
      },
      "source": [
        "events.head(10)"
      ],
      "id": "819793cc",
      "execution_count": null,
      "outputs": [
        {
          "output_type": "execute_result",
          "data": {
            "text/html": [
              "<div>\n",
              "<style scoped>\n",
              "    .dataframe tbody tr th:only-of-type {\n",
              "        vertical-align: middle;\n",
              "    }\n",
              "\n",
              "    .dataframe tbody tr th {\n",
              "        vertical-align: top;\n",
              "    }\n",
              "\n",
              "    .dataframe thead th {\n",
              "        text-align: right;\n",
              "    }\n",
              "</style>\n",
              "<table border=\"1\" class=\"dataframe\">\n",
              "  <thead>\n",
              "    <tr style=\"text-align: right;\">\n",
              "      <th></th>\n",
              "      <th>timestamp</th>\n",
              "      <th>visitorid</th>\n",
              "      <th>event</th>\n",
              "      <th>itemid</th>\n",
              "      <th>transactionid</th>\n",
              "      <th>heure_event</th>\n",
              "      <th>jour</th>\n",
              "      <th>mois</th>\n",
              "      <th>annee</th>\n",
              "      <th>heure</th>\n",
              "    </tr>\n",
              "  </thead>\n",
              "  <tbody>\n",
              "    <tr>\n",
              "      <th>0</th>\n",
              "      <td>1433221332117</td>\n",
              "      <td>257597</td>\n",
              "      <td>view</td>\n",
              "      <td>355908</td>\n",
              "      <td>NaN</td>\n",
              "      <td>2015-06-02 05:02:12.117</td>\n",
              "      <td>2</td>\n",
              "      <td>6</td>\n",
              "      <td>2015</td>\n",
              "      <td>5</td>\n",
              "    </tr>\n",
              "    <tr>\n",
              "      <th>1</th>\n",
              "      <td>1433224214164</td>\n",
              "      <td>992329</td>\n",
              "      <td>view</td>\n",
              "      <td>248676</td>\n",
              "      <td>NaN</td>\n",
              "      <td>2015-06-02 05:50:14.164</td>\n",
              "      <td>2</td>\n",
              "      <td>6</td>\n",
              "      <td>2015</td>\n",
              "      <td>5</td>\n",
              "    </tr>\n",
              "    <tr>\n",
              "      <th>2</th>\n",
              "      <td>1433221999827</td>\n",
              "      <td>111016</td>\n",
              "      <td>view</td>\n",
              "      <td>318965</td>\n",
              "      <td>NaN</td>\n",
              "      <td>2015-06-02 05:13:19.827</td>\n",
              "      <td>2</td>\n",
              "      <td>6</td>\n",
              "      <td>2015</td>\n",
              "      <td>5</td>\n",
              "    </tr>\n",
              "    <tr>\n",
              "      <th>3</th>\n",
              "      <td>1433221955914</td>\n",
              "      <td>483717</td>\n",
              "      <td>view</td>\n",
              "      <td>253185</td>\n",
              "      <td>NaN</td>\n",
              "      <td>2015-06-02 05:12:35.914</td>\n",
              "      <td>2</td>\n",
              "      <td>6</td>\n",
              "      <td>2015</td>\n",
              "      <td>5</td>\n",
              "    </tr>\n",
              "    <tr>\n",
              "      <th>4</th>\n",
              "      <td>1433221337106</td>\n",
              "      <td>951259</td>\n",
              "      <td>view</td>\n",
              "      <td>367447</td>\n",
              "      <td>NaN</td>\n",
              "      <td>2015-06-02 05:02:17.106</td>\n",
              "      <td>2</td>\n",
              "      <td>6</td>\n",
              "      <td>2015</td>\n",
              "      <td>5</td>\n",
              "    </tr>\n",
              "    <tr>\n",
              "      <th>5</th>\n",
              "      <td>1433224086234</td>\n",
              "      <td>972639</td>\n",
              "      <td>view</td>\n",
              "      <td>22556</td>\n",
              "      <td>NaN</td>\n",
              "      <td>2015-06-02 05:48:06.234</td>\n",
              "      <td>2</td>\n",
              "      <td>6</td>\n",
              "      <td>2015</td>\n",
              "      <td>5</td>\n",
              "    </tr>\n",
              "    <tr>\n",
              "      <th>6</th>\n",
              "      <td>1433221923240</td>\n",
              "      <td>810725</td>\n",
              "      <td>view</td>\n",
              "      <td>443030</td>\n",
              "      <td>NaN</td>\n",
              "      <td>2015-06-02 05:12:03.240</td>\n",
              "      <td>2</td>\n",
              "      <td>6</td>\n",
              "      <td>2015</td>\n",
              "      <td>5</td>\n",
              "    </tr>\n",
              "    <tr>\n",
              "      <th>7</th>\n",
              "      <td>1433223291897</td>\n",
              "      <td>794181</td>\n",
              "      <td>view</td>\n",
              "      <td>439202</td>\n",
              "      <td>NaN</td>\n",
              "      <td>2015-06-02 05:34:51.897</td>\n",
              "      <td>2</td>\n",
              "      <td>6</td>\n",
              "      <td>2015</td>\n",
              "      <td>5</td>\n",
              "    </tr>\n",
              "    <tr>\n",
              "      <th>8</th>\n",
              "      <td>1433220899221</td>\n",
              "      <td>824915</td>\n",
              "      <td>view</td>\n",
              "      <td>428805</td>\n",
              "      <td>NaN</td>\n",
              "      <td>2015-06-02 04:54:59.221</td>\n",
              "      <td>2</td>\n",
              "      <td>6</td>\n",
              "      <td>2015</td>\n",
              "      <td>4</td>\n",
              "    </tr>\n",
              "    <tr>\n",
              "      <th>9</th>\n",
              "      <td>1433221204592</td>\n",
              "      <td>339335</td>\n",
              "      <td>view</td>\n",
              "      <td>82389</td>\n",
              "      <td>NaN</td>\n",
              "      <td>2015-06-02 05:00:04.592</td>\n",
              "      <td>2</td>\n",
              "      <td>6</td>\n",
              "      <td>2015</td>\n",
              "      <td>5</td>\n",
              "    </tr>\n",
              "  </tbody>\n",
              "</table>\n",
              "</div>"
            ],
            "text/plain": [
              "       timestamp  visitorid event  itemid  ...  jour mois  annee  heure\n",
              "0  1433221332117     257597  view  355908  ...     2    6   2015      5\n",
              "1  1433224214164     992329  view  248676  ...     2    6   2015      5\n",
              "2  1433221999827     111016  view  318965  ...     2    6   2015      5\n",
              "3  1433221955914     483717  view  253185  ...     2    6   2015      5\n",
              "4  1433221337106     951259  view  367447  ...     2    6   2015      5\n",
              "5  1433224086234     972639  view   22556  ...     2    6   2015      5\n",
              "6  1433221923240     810725  view  443030  ...     2    6   2015      5\n",
              "7  1433223291897     794181  view  439202  ...     2    6   2015      5\n",
              "8  1433220899221     824915  view  428805  ...     2    6   2015      4\n",
              "9  1433221204592     339335  view   82389  ...     2    6   2015      5\n",
              "\n",
              "[10 rows x 10 columns]"
            ]
          },
          "metadata": {},
          "execution_count": 5
        }
      ]
    },
    {
      "cell_type": "code",
      "metadata": {
        "colab": {
          "base_uri": "https://localhost:8080/",
          "height": 206
        },
        "id": "acdc52fd",
        "outputId": "83db1890-27c7-4aa7-9e2f-b92255a624fd"
      },
      "source": [
        "# les colonnes à supprimer :\n",
        "#>> timestamp et heure event : car elles sont décomposées dans d'autres colonnes\n",
        "\n",
        "events.drop(['timestamp', 'heure_event'], axis=1, inplace=True)\n",
        "events.head()"
      ],
      "id": "acdc52fd",
      "execution_count": null,
      "outputs": [
        {
          "output_type": "execute_result",
          "data": {
            "text/html": [
              "<div>\n",
              "<style scoped>\n",
              "    .dataframe tbody tr th:only-of-type {\n",
              "        vertical-align: middle;\n",
              "    }\n",
              "\n",
              "    .dataframe tbody tr th {\n",
              "        vertical-align: top;\n",
              "    }\n",
              "\n",
              "    .dataframe thead th {\n",
              "        text-align: right;\n",
              "    }\n",
              "</style>\n",
              "<table border=\"1\" class=\"dataframe\">\n",
              "  <thead>\n",
              "    <tr style=\"text-align: right;\">\n",
              "      <th></th>\n",
              "      <th>visitorid</th>\n",
              "      <th>event</th>\n",
              "      <th>itemid</th>\n",
              "      <th>transactionid</th>\n",
              "      <th>jour</th>\n",
              "      <th>mois</th>\n",
              "      <th>annee</th>\n",
              "      <th>heure</th>\n",
              "    </tr>\n",
              "  </thead>\n",
              "  <tbody>\n",
              "    <tr>\n",
              "      <th>0</th>\n",
              "      <td>257597</td>\n",
              "      <td>view</td>\n",
              "      <td>355908</td>\n",
              "      <td>NaN</td>\n",
              "      <td>2</td>\n",
              "      <td>6</td>\n",
              "      <td>2015</td>\n",
              "      <td>5</td>\n",
              "    </tr>\n",
              "    <tr>\n",
              "      <th>1</th>\n",
              "      <td>992329</td>\n",
              "      <td>view</td>\n",
              "      <td>248676</td>\n",
              "      <td>NaN</td>\n",
              "      <td>2</td>\n",
              "      <td>6</td>\n",
              "      <td>2015</td>\n",
              "      <td>5</td>\n",
              "    </tr>\n",
              "    <tr>\n",
              "      <th>2</th>\n",
              "      <td>111016</td>\n",
              "      <td>view</td>\n",
              "      <td>318965</td>\n",
              "      <td>NaN</td>\n",
              "      <td>2</td>\n",
              "      <td>6</td>\n",
              "      <td>2015</td>\n",
              "      <td>5</td>\n",
              "    </tr>\n",
              "    <tr>\n",
              "      <th>3</th>\n",
              "      <td>483717</td>\n",
              "      <td>view</td>\n",
              "      <td>253185</td>\n",
              "      <td>NaN</td>\n",
              "      <td>2</td>\n",
              "      <td>6</td>\n",
              "      <td>2015</td>\n",
              "      <td>5</td>\n",
              "    </tr>\n",
              "    <tr>\n",
              "      <th>4</th>\n",
              "      <td>951259</td>\n",
              "      <td>view</td>\n",
              "      <td>367447</td>\n",
              "      <td>NaN</td>\n",
              "      <td>2</td>\n",
              "      <td>6</td>\n",
              "      <td>2015</td>\n",
              "      <td>5</td>\n",
              "    </tr>\n",
              "  </tbody>\n",
              "</table>\n",
              "</div>"
            ],
            "text/plain": [
              "   visitorid event  itemid  transactionid  jour  mois  annee  heure\n",
              "0     257597  view  355908            NaN     2     6   2015      5\n",
              "1     992329  view  248676            NaN     2     6   2015      5\n",
              "2     111016  view  318965            NaN     2     6   2015      5\n",
              "3     483717  view  253185            NaN     2     6   2015      5\n",
              "4     951259  view  367447            NaN     2     6   2015      5"
            ]
          },
          "metadata": {},
          "execution_count": 6
        }
      ]
    },
    {
      "cell_type": "code",
      "metadata": {
        "colab": {
          "base_uri": "https://localhost:8080/",
          "height": 206
        },
        "id": "dde3349c",
        "outputId": "015d0832-773a-46d3-9dc7-d0ae7db80c8d"
      },
      "source": [
        "#Création d'un sub dataframe avec les colonnes à utiliser dans le cadre de l'hypothèse clustering\n",
        "subevents = events[[\"visitorid\",\"itemid\", \"event\",\"transactionid\",\"heure\"]]\n",
        "subevents.head()"
      ],
      "id": "dde3349c",
      "execution_count": null,
      "outputs": [
        {
          "output_type": "execute_result",
          "data": {
            "text/html": [
              "<div>\n",
              "<style scoped>\n",
              "    .dataframe tbody tr th:only-of-type {\n",
              "        vertical-align: middle;\n",
              "    }\n",
              "\n",
              "    .dataframe tbody tr th {\n",
              "        vertical-align: top;\n",
              "    }\n",
              "\n",
              "    .dataframe thead th {\n",
              "        text-align: right;\n",
              "    }\n",
              "</style>\n",
              "<table border=\"1\" class=\"dataframe\">\n",
              "  <thead>\n",
              "    <tr style=\"text-align: right;\">\n",
              "      <th></th>\n",
              "      <th>visitorid</th>\n",
              "      <th>itemid</th>\n",
              "      <th>event</th>\n",
              "      <th>transactionid</th>\n",
              "      <th>heure</th>\n",
              "    </tr>\n",
              "  </thead>\n",
              "  <tbody>\n",
              "    <tr>\n",
              "      <th>0</th>\n",
              "      <td>257597</td>\n",
              "      <td>355908</td>\n",
              "      <td>view</td>\n",
              "      <td>NaN</td>\n",
              "      <td>5</td>\n",
              "    </tr>\n",
              "    <tr>\n",
              "      <th>1</th>\n",
              "      <td>992329</td>\n",
              "      <td>248676</td>\n",
              "      <td>view</td>\n",
              "      <td>NaN</td>\n",
              "      <td>5</td>\n",
              "    </tr>\n",
              "    <tr>\n",
              "      <th>2</th>\n",
              "      <td>111016</td>\n",
              "      <td>318965</td>\n",
              "      <td>view</td>\n",
              "      <td>NaN</td>\n",
              "      <td>5</td>\n",
              "    </tr>\n",
              "    <tr>\n",
              "      <th>3</th>\n",
              "      <td>483717</td>\n",
              "      <td>253185</td>\n",
              "      <td>view</td>\n",
              "      <td>NaN</td>\n",
              "      <td>5</td>\n",
              "    </tr>\n",
              "    <tr>\n",
              "      <th>4</th>\n",
              "      <td>951259</td>\n",
              "      <td>367447</td>\n",
              "      <td>view</td>\n",
              "      <td>NaN</td>\n",
              "      <td>5</td>\n",
              "    </tr>\n",
              "  </tbody>\n",
              "</table>\n",
              "</div>"
            ],
            "text/plain": [
              "   visitorid  itemid event  transactionid  heure\n",
              "0     257597  355908  view            NaN      5\n",
              "1     992329  248676  view            NaN      5\n",
              "2     111016  318965  view            NaN      5\n",
              "3     483717  253185  view            NaN      5\n",
              "4     951259  367447  view            NaN      5"
            ]
          },
          "metadata": {},
          "execution_count": 7
        }
      ]
    },
    {
      "cell_type": "code",
      "metadata": {
        "colab": {
          "base_uri": "https://localhost:8080/",
          "height": 363
        },
        "id": "f47c7c51",
        "outputId": "8ecb1045-4452-481c-82c3-6f9309fb5b47"
      },
      "source": [
        "subevents_type = subevents.join(pd.get_dummies(events['event'], prefix='event'))\n",
        "subevents_type.head(10)"
      ],
      "id": "f47c7c51",
      "execution_count": null,
      "outputs": [
        {
          "output_type": "execute_result",
          "data": {
            "text/html": [
              "<div>\n",
              "<style scoped>\n",
              "    .dataframe tbody tr th:only-of-type {\n",
              "        vertical-align: middle;\n",
              "    }\n",
              "\n",
              "    .dataframe tbody tr th {\n",
              "        vertical-align: top;\n",
              "    }\n",
              "\n",
              "    .dataframe thead th {\n",
              "        text-align: right;\n",
              "    }\n",
              "</style>\n",
              "<table border=\"1\" class=\"dataframe\">\n",
              "  <thead>\n",
              "    <tr style=\"text-align: right;\">\n",
              "      <th></th>\n",
              "      <th>visitorid</th>\n",
              "      <th>itemid</th>\n",
              "      <th>event</th>\n",
              "      <th>transactionid</th>\n",
              "      <th>heure</th>\n",
              "      <th>event_addtocart</th>\n",
              "      <th>event_transaction</th>\n",
              "      <th>event_view</th>\n",
              "    </tr>\n",
              "  </thead>\n",
              "  <tbody>\n",
              "    <tr>\n",
              "      <th>0</th>\n",
              "      <td>257597</td>\n",
              "      <td>355908</td>\n",
              "      <td>view</td>\n",
              "      <td>NaN</td>\n",
              "      <td>5</td>\n",
              "      <td>0</td>\n",
              "      <td>0</td>\n",
              "      <td>1</td>\n",
              "    </tr>\n",
              "    <tr>\n",
              "      <th>1</th>\n",
              "      <td>992329</td>\n",
              "      <td>248676</td>\n",
              "      <td>view</td>\n",
              "      <td>NaN</td>\n",
              "      <td>5</td>\n",
              "      <td>0</td>\n",
              "      <td>0</td>\n",
              "      <td>1</td>\n",
              "    </tr>\n",
              "    <tr>\n",
              "      <th>2</th>\n",
              "      <td>111016</td>\n",
              "      <td>318965</td>\n",
              "      <td>view</td>\n",
              "      <td>NaN</td>\n",
              "      <td>5</td>\n",
              "      <td>0</td>\n",
              "      <td>0</td>\n",
              "      <td>1</td>\n",
              "    </tr>\n",
              "    <tr>\n",
              "      <th>3</th>\n",
              "      <td>483717</td>\n",
              "      <td>253185</td>\n",
              "      <td>view</td>\n",
              "      <td>NaN</td>\n",
              "      <td>5</td>\n",
              "      <td>0</td>\n",
              "      <td>0</td>\n",
              "      <td>1</td>\n",
              "    </tr>\n",
              "    <tr>\n",
              "      <th>4</th>\n",
              "      <td>951259</td>\n",
              "      <td>367447</td>\n",
              "      <td>view</td>\n",
              "      <td>NaN</td>\n",
              "      <td>5</td>\n",
              "      <td>0</td>\n",
              "      <td>0</td>\n",
              "      <td>1</td>\n",
              "    </tr>\n",
              "    <tr>\n",
              "      <th>5</th>\n",
              "      <td>972639</td>\n",
              "      <td>22556</td>\n",
              "      <td>view</td>\n",
              "      <td>NaN</td>\n",
              "      <td>5</td>\n",
              "      <td>0</td>\n",
              "      <td>0</td>\n",
              "      <td>1</td>\n",
              "    </tr>\n",
              "    <tr>\n",
              "      <th>6</th>\n",
              "      <td>810725</td>\n",
              "      <td>443030</td>\n",
              "      <td>view</td>\n",
              "      <td>NaN</td>\n",
              "      <td>5</td>\n",
              "      <td>0</td>\n",
              "      <td>0</td>\n",
              "      <td>1</td>\n",
              "    </tr>\n",
              "    <tr>\n",
              "      <th>7</th>\n",
              "      <td>794181</td>\n",
              "      <td>439202</td>\n",
              "      <td>view</td>\n",
              "      <td>NaN</td>\n",
              "      <td>5</td>\n",
              "      <td>0</td>\n",
              "      <td>0</td>\n",
              "      <td>1</td>\n",
              "    </tr>\n",
              "    <tr>\n",
              "      <th>8</th>\n",
              "      <td>824915</td>\n",
              "      <td>428805</td>\n",
              "      <td>view</td>\n",
              "      <td>NaN</td>\n",
              "      <td>4</td>\n",
              "      <td>0</td>\n",
              "      <td>0</td>\n",
              "      <td>1</td>\n",
              "    </tr>\n",
              "    <tr>\n",
              "      <th>9</th>\n",
              "      <td>339335</td>\n",
              "      <td>82389</td>\n",
              "      <td>view</td>\n",
              "      <td>NaN</td>\n",
              "      <td>5</td>\n",
              "      <td>0</td>\n",
              "      <td>0</td>\n",
              "      <td>1</td>\n",
              "    </tr>\n",
              "  </tbody>\n",
              "</table>\n",
              "</div>"
            ],
            "text/plain": [
              "   visitorid  itemid event  ...  event_addtocart  event_transaction  event_view\n",
              "0     257597  355908  view  ...                0                  0           1\n",
              "1     992329  248676  view  ...                0                  0           1\n",
              "2     111016  318965  view  ...                0                  0           1\n",
              "3     483717  253185  view  ...                0                  0           1\n",
              "4     951259  367447  view  ...                0                  0           1\n",
              "5     972639   22556  view  ...                0                  0           1\n",
              "6     810725  443030  view  ...                0                  0           1\n",
              "7     794181  439202  view  ...                0                  0           1\n",
              "8     824915  428805  view  ...                0                  0           1\n",
              "9     339335   82389  view  ...                0                  0           1\n",
              "\n",
              "[10 rows x 8 columns]"
            ]
          },
          "metadata": {},
          "execution_count": 8
        }
      ]
    },
    {
      "cell_type": "code",
      "metadata": {
        "id": "de6eecf9"
      },
      "source": [
        "## NE PAS METTRE DANS LE CODE FINAL / Répétition du df ci-dessus\n",
        "\n",
        "# génération du df avec les classes de event\n",
        "subevent3=subevents_type[[\"visitorid\",\"itemid\",\"heure\",\"transactionid\",\"event_addtocart\",\"event_transaction\",\"event_view\"]]"
      ],
      "id": "de6eecf9",
      "execution_count": null,
      "outputs": []
    },
    {
      "cell_type": "code",
      "metadata": {
        "colab": {
          "base_uri": "https://localhost:8080/",
          "height": 454
        },
        "id": "8ef0c730",
        "outputId": "a33b88eb-26ca-4864-a8e1-8843e18b8550"
      },
      "source": [
        "# comptabilisation des events par visiteur\n",
        "Profil_visiteur = subevents_type.groupby('visitorid').agg({'event_addtocart': 'sum',\n",
        "                                                      'event_transaction': 'sum',\n",
        "                                                      'event_view': 'sum',}).astype('int')\n",
        "Profil_visiteur\n"
      ],
      "id": "8ef0c730",
      "execution_count": null,
      "outputs": [
        {
          "output_type": "execute_result",
          "data": {
            "text/html": [
              "<div>\n",
              "<style scoped>\n",
              "    .dataframe tbody tr th:only-of-type {\n",
              "        vertical-align: middle;\n",
              "    }\n",
              "\n",
              "    .dataframe tbody tr th {\n",
              "        vertical-align: top;\n",
              "    }\n",
              "\n",
              "    .dataframe thead th {\n",
              "        text-align: right;\n",
              "    }\n",
              "</style>\n",
              "<table border=\"1\" class=\"dataframe\">\n",
              "  <thead>\n",
              "    <tr style=\"text-align: right;\">\n",
              "      <th></th>\n",
              "      <th>event_addtocart</th>\n",
              "      <th>event_transaction</th>\n",
              "      <th>event_view</th>\n",
              "    </tr>\n",
              "    <tr>\n",
              "      <th>visitorid</th>\n",
              "      <th></th>\n",
              "      <th></th>\n",
              "      <th></th>\n",
              "    </tr>\n",
              "  </thead>\n",
              "  <tbody>\n",
              "    <tr>\n",
              "      <th>0</th>\n",
              "      <td>0</td>\n",
              "      <td>0</td>\n",
              "      <td>3</td>\n",
              "    </tr>\n",
              "    <tr>\n",
              "      <th>1</th>\n",
              "      <td>0</td>\n",
              "      <td>0</td>\n",
              "      <td>1</td>\n",
              "    </tr>\n",
              "    <tr>\n",
              "      <th>2</th>\n",
              "      <td>0</td>\n",
              "      <td>0</td>\n",
              "      <td>8</td>\n",
              "    </tr>\n",
              "    <tr>\n",
              "      <th>3</th>\n",
              "      <td>0</td>\n",
              "      <td>0</td>\n",
              "      <td>1</td>\n",
              "    </tr>\n",
              "    <tr>\n",
              "      <th>4</th>\n",
              "      <td>0</td>\n",
              "      <td>0</td>\n",
              "      <td>1</td>\n",
              "    </tr>\n",
              "    <tr>\n",
              "      <th>...</th>\n",
              "      <td>...</td>\n",
              "      <td>...</td>\n",
              "      <td>...</td>\n",
              "    </tr>\n",
              "    <tr>\n",
              "      <th>1407575</th>\n",
              "      <td>0</td>\n",
              "      <td>0</td>\n",
              "      <td>1</td>\n",
              "    </tr>\n",
              "    <tr>\n",
              "      <th>1407576</th>\n",
              "      <td>0</td>\n",
              "      <td>0</td>\n",
              "      <td>1</td>\n",
              "    </tr>\n",
              "    <tr>\n",
              "      <th>1407577</th>\n",
              "      <td>0</td>\n",
              "      <td>0</td>\n",
              "      <td>1</td>\n",
              "    </tr>\n",
              "    <tr>\n",
              "      <th>1407578</th>\n",
              "      <td>0</td>\n",
              "      <td>0</td>\n",
              "      <td>1</td>\n",
              "    </tr>\n",
              "    <tr>\n",
              "      <th>1407579</th>\n",
              "      <td>0</td>\n",
              "      <td>0</td>\n",
              "      <td>1</td>\n",
              "    </tr>\n",
              "  </tbody>\n",
              "</table>\n",
              "<p>1407580 rows × 3 columns</p>\n",
              "</div>"
            ],
            "text/plain": [
              "           event_addtocart  event_transaction  event_view\n",
              "visitorid                                                \n",
              "0                        0                  0           3\n",
              "1                        0                  0           1\n",
              "2                        0                  0           8\n",
              "3                        0                  0           1\n",
              "4                        0                  0           1\n",
              "...                    ...                ...         ...\n",
              "1407575                  0                  0           1\n",
              "1407576                  0                  0           1\n",
              "1407577                  0                  0           1\n",
              "1407578                  0                  0           1\n",
              "1407579                  0                  0           1\n",
              "\n",
              "[1407580 rows x 3 columns]"
            ]
          },
          "metadata": {},
          "execution_count": 9
        }
      ]
    },
    {
      "cell_type": "code",
      "metadata": {
        "colab": {
          "base_uri": "https://localhost:8080/",
          "height": 454
        },
        "id": "b39e8208",
        "outputId": "c31e27cc-0582-4672-bec3-3c7b3ed1df02"
      },
      "source": [
        "# comptabilisation des events par produit jusqu'à l'acte d'achat\n",
        "\n",
        "Profil_produit = subevents_type.groupby('itemid').agg({'event_addtocart': 'sum',\n",
        "                                                 'event_transaction': 'sum',\n",
        "                                                 'event_view': 'sum', \n",
        "                                                 'visitorid': 'count'}).astype('int') # Nous permet d'avoir le total de visiteurs ayant fait une action sur l'item\n",
        "Profil_produit"
      ],
      "id": "b39e8208",
      "execution_count": null,
      "outputs": [
        {
          "output_type": "execute_result",
          "data": {
            "text/html": [
              "<div>\n",
              "<style scoped>\n",
              "    .dataframe tbody tr th:only-of-type {\n",
              "        vertical-align: middle;\n",
              "    }\n",
              "\n",
              "    .dataframe tbody tr th {\n",
              "        vertical-align: top;\n",
              "    }\n",
              "\n",
              "    .dataframe thead th {\n",
              "        text-align: right;\n",
              "    }\n",
              "</style>\n",
              "<table border=\"1\" class=\"dataframe\">\n",
              "  <thead>\n",
              "    <tr style=\"text-align: right;\">\n",
              "      <th></th>\n",
              "      <th>event_addtocart</th>\n",
              "      <th>event_transaction</th>\n",
              "      <th>event_view</th>\n",
              "      <th>visitorid</th>\n",
              "    </tr>\n",
              "    <tr>\n",
              "      <th>itemid</th>\n",
              "      <th></th>\n",
              "      <th></th>\n",
              "      <th></th>\n",
              "      <th></th>\n",
              "    </tr>\n",
              "  </thead>\n",
              "  <tbody>\n",
              "    <tr>\n",
              "      <th>3</th>\n",
              "      <td>0</td>\n",
              "      <td>0</td>\n",
              "      <td>2</td>\n",
              "      <td>2</td>\n",
              "    </tr>\n",
              "    <tr>\n",
              "      <th>4</th>\n",
              "      <td>0</td>\n",
              "      <td>0</td>\n",
              "      <td>3</td>\n",
              "      <td>3</td>\n",
              "    </tr>\n",
              "    <tr>\n",
              "      <th>6</th>\n",
              "      <td>0</td>\n",
              "      <td>0</td>\n",
              "      <td>29</td>\n",
              "      <td>29</td>\n",
              "    </tr>\n",
              "    <tr>\n",
              "      <th>9</th>\n",
              "      <td>0</td>\n",
              "      <td>0</td>\n",
              "      <td>2</td>\n",
              "      <td>2</td>\n",
              "    </tr>\n",
              "    <tr>\n",
              "      <th>15</th>\n",
              "      <td>3</td>\n",
              "      <td>1</td>\n",
              "      <td>18</td>\n",
              "      <td>22</td>\n",
              "    </tr>\n",
              "    <tr>\n",
              "      <th>...</th>\n",
              "      <td>...</td>\n",
              "      <td>...</td>\n",
              "      <td>...</td>\n",
              "      <td>...</td>\n",
              "    </tr>\n",
              "    <tr>\n",
              "      <th>466861</th>\n",
              "      <td>5</td>\n",
              "      <td>1</td>\n",
              "      <td>89</td>\n",
              "      <td>95</td>\n",
              "    </tr>\n",
              "    <tr>\n",
              "      <th>466862</th>\n",
              "      <td>0</td>\n",
              "      <td>0</td>\n",
              "      <td>4</td>\n",
              "      <td>4</td>\n",
              "    </tr>\n",
              "    <tr>\n",
              "      <th>466863</th>\n",
              "      <td>0</td>\n",
              "      <td>0</td>\n",
              "      <td>1</td>\n",
              "      <td>1</td>\n",
              "    </tr>\n",
              "    <tr>\n",
              "      <th>466864</th>\n",
              "      <td>2</td>\n",
              "      <td>0</td>\n",
              "      <td>89</td>\n",
              "      <td>91</td>\n",
              "    </tr>\n",
              "    <tr>\n",
              "      <th>466867</th>\n",
              "      <td>0</td>\n",
              "      <td>0</td>\n",
              "      <td>4</td>\n",
              "      <td>4</td>\n",
              "    </tr>\n",
              "  </tbody>\n",
              "</table>\n",
              "<p>235061 rows × 4 columns</p>\n",
              "</div>"
            ],
            "text/plain": [
              "        event_addtocart  event_transaction  event_view  visitorid\n",
              "itemid                                                           \n",
              "3                     0                  0           2          2\n",
              "4                     0                  0           3          3\n",
              "6                     0                  0          29         29\n",
              "9                     0                  0           2          2\n",
              "15                    3                  1          18         22\n",
              "...                 ...                ...         ...        ...\n",
              "466861                5                  1          89         95\n",
              "466862                0                  0           4          4\n",
              "466863                0                  0           1          1\n",
              "466864                2                  0          89         91\n",
              "466867                0                  0           4          4\n",
              "\n",
              "[235061 rows x 4 columns]"
            ]
          },
          "metadata": {},
          "execution_count": 10
        }
      ]
    },
    {
      "cell_type": "markdown",
      "metadata": {
        "id": "uNUK7_H1fL0A"
      },
      "source": [
        "Nous ajoutons ensuite une variable qui - **le taux d'achat**:\n",
        "Il s'agit du ratio obtenu par le nombre de transactions divisé par le nombre de visites sur ce produit."
      ],
      "id": "uNUK7_H1fL0A"
    },
    {
      "cell_type": "code",
      "metadata": {
        "id": "261189c7"
      },
      "source": [
        "# Pour ce faire, nous rajoutons une colonne au subset Profil_produit\n",
        "\n",
        "#Profil_produit['taux_achat'] = (Profil_produit['event_transaction']/Profil_produit['visitorid']*100).round(2)\n",
        "P#rofil_produit.head()"
      ],
      "id": "261189c7",
      "execution_count": null,
      "outputs": []
    },
    {
      "cell_type": "code",
      "metadata": {
        "colab": {
          "base_uri": "https://localhost:8080/",
          "height": 237
        },
        "id": "776eecb6",
        "outputId": "e27059e7-148b-43b0-ef78-53ffd1de690d"
      },
      "source": [
        "# A partir du Profil_produit filtrons à présent les lignes pour lesquelles il y a eu une transaction\n",
        "\n",
        "Profil_transaction = Profil_produit[Profil_produit.event_transaction>=1].sort_values(by='event_transaction', ascending=False)\n",
        "Profil_transaction.head()"
      ],
      "id": "776eecb6",
      "execution_count": null,
      "outputs": [
        {
          "output_type": "execute_result",
          "data": {
            "text/html": [
              "<div>\n",
              "<style scoped>\n",
              "    .dataframe tbody tr th:only-of-type {\n",
              "        vertical-align: middle;\n",
              "    }\n",
              "\n",
              "    .dataframe tbody tr th {\n",
              "        vertical-align: top;\n",
              "    }\n",
              "\n",
              "    .dataframe thead th {\n",
              "        text-align: right;\n",
              "    }\n",
              "</style>\n",
              "<table border=\"1\" class=\"dataframe\">\n",
              "  <thead>\n",
              "    <tr style=\"text-align: right;\">\n",
              "      <th></th>\n",
              "      <th>event_addtocart</th>\n",
              "      <th>event_transaction</th>\n",
              "      <th>event_view</th>\n",
              "      <th>visitorid</th>\n",
              "    </tr>\n",
              "    <tr>\n",
              "      <th>itemid</th>\n",
              "      <th></th>\n",
              "      <th></th>\n",
              "      <th></th>\n",
              "      <th></th>\n",
              "    </tr>\n",
              "  </thead>\n",
              "  <tbody>\n",
              "    <tr>\n",
              "      <th>461686</th>\n",
              "      <td>306</td>\n",
              "      <td>133</td>\n",
              "      <td>2539</td>\n",
              "      <td>2978</td>\n",
              "    </tr>\n",
              "    <tr>\n",
              "      <th>119736</th>\n",
              "      <td>44</td>\n",
              "      <td>97</td>\n",
              "      <td>752</td>\n",
              "      <td>893</td>\n",
              "    </tr>\n",
              "    <tr>\n",
              "      <th>213834</th>\n",
              "      <td>17</td>\n",
              "      <td>92</td>\n",
              "      <td>293</td>\n",
              "      <td>402</td>\n",
              "    </tr>\n",
              "    <tr>\n",
              "      <th>312728</th>\n",
              "      <td>162</td>\n",
              "      <td>46</td>\n",
              "      <td>947</td>\n",
              "      <td>1155</td>\n",
              "    </tr>\n",
              "    <tr>\n",
              "      <th>7943</th>\n",
              "      <td>97</td>\n",
              "      <td>46</td>\n",
              "      <td>1346</td>\n",
              "      <td>1489</td>\n",
              "    </tr>\n",
              "  </tbody>\n",
              "</table>\n",
              "</div>"
            ],
            "text/plain": [
              "        event_addtocart  event_transaction  event_view  visitorid\n",
              "itemid                                                           \n",
              "461686              306                133        2539       2978\n",
              "119736               44                 97         752        893\n",
              "213834               17                 92         293        402\n",
              "312728              162                 46         947       1155\n",
              "7943                 97                 46        1346       1489"
            ]
          },
          "metadata": {},
          "execution_count": 11
        }
      ]
    },
    {
      "cell_type": "markdown",
      "metadata": {
        "id": "e869beca"
      },
      "source": [
        "On recupère ici toutes les lignes ayant fait l'objet de transactions. \n",
        "Attention dans ce rendu un item peut avoir été acheté plusieurs fois par un visiteur. En effet, comme vu plus haut le \n",
        "nombre de visiteurs uniques est de 17673. "
      ],
      "id": "e869beca"
    },
    {
      "cell_type": "markdown",
      "metadata": {
        "id": "gZQSu76whcXi"
      },
      "source": [
        ">> ## CI-DESSOUS garde-t-on la classification du taux d'achat puisque la modélisation est un clustering et non une prédiction de classe ? \n"
      ],
      "id": "gZQSu76whcXi"
    },
    {
      "cell_type": "code",
      "metadata": {
        "id": "a9a04b47"
      },
      "source": [
        "# il faut à présent définir une colonne avec une classes de produit à partir du taux d'achat\n",
        "\n",
        "#Profil_transaction['Classe'] = Profil_transaction['taux_achat'].apply(lambda x : \"Faible\" if x<=0.25 else \"Moyenne\" if x<=75 else \"Forte\" )\n",
        "#Profil_transaction.head()"
      ],
      "id": "a9a04b47",
      "execution_count": null,
      "outputs": []
    },
    {
      "cell_type": "code",
      "metadata": {
        "id": "b5486e71"
      },
      "source": [
        "# vérification de l'affectation aux classes\n",
        "#Profil_transaction['Classe'].unique()"
      ],
      "id": "b5486e71",
      "execution_count": null,
      "outputs": []
    },
    {
      "cell_type": "code",
      "metadata": {
        "colab": {
          "base_uri": "https://localhost:8080/",
          "height": 378
        },
        "id": "95254999",
        "outputId": "ca2f0def-aacb-4346-b2fb-6d59e00924fc"
      },
      "source": [
        "# Relation entre les variables\n",
        "\n",
        "cor = Profil_transaction.corr()\n",
        "fig, ax = plt.subplots(figsize=(8,6))\n",
        "sns.heatmap(cor, annot=True, ax=ax, cmap='coolwarm');"
      ],
      "id": "95254999",
      "execution_count": null,
      "outputs": [
        {
          "output_type": "display_data",
          "data": {
            "image/png": "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\n",
            "text/plain": [
              "<Figure size 576x432 with 2 Axes>"
            ]
          },
          "metadata": {
            "needs_background": "light"
          }
        }
      ]
    },
    {
      "cell_type": "markdown",
      "metadata": {
        "id": "34a190ae"
      },
      "source": [
        "Nous avons la confirmation qu'il existe une relation de linearite entre le nb de produits mis dans le panier et la transaction realisee par la suite"
      ],
      "id": "34a190ae"
    },
    {
      "cell_type": "markdown",
      "metadata": {
        "id": "6807bcfa"
      },
      "source": [
        "# 1. Clustering des produits"
      ],
      "id": "6807bcfa"
    },
    {
      "cell_type": "markdown",
      "metadata": {
        "id": "Ku8f0ZLQ44Fc"
      },
      "source": [
        "### Relation entre les variables et représentation graphique\n"
      ],
      "id": "Ku8f0ZLQ44Fc"
    },
    {
      "cell_type": "code",
      "metadata": {
        "colab": {
          "base_uri": "https://localhost:8080/",
          "height": 384
        },
        "id": "iiumPYMP8APe",
        "outputId": "82610d12-c6c5-4b32-ce5f-7f3f72d3af08"
      },
      "source": [
        "#Relation entre la variable event_addcart et event_transaction\n",
        "sns.lmplot(x='event_addtocart', y='event_transaction',  data=Profil_transaction, order=2, line_kws={'color': 'red'})\n",
        "plt.title('Addtocart/Transaction');"
      ],
      "id": "iiumPYMP8APe",
      "execution_count": null,
      "outputs": [
        {
          "output_type": "display_data",
          "data": {
            "image/png": "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\n",
            "text/plain": [
              "<Figure size 360x360 with 1 Axes>"
            ]
          },
          "metadata": {
            "needs_background": "light"
          }
        }
      ]
    },
    {
      "cell_type": "markdown",
      "metadata": {
        "id": "46cf09ed"
      },
      "source": [
        "Il y a une majorité de produits qui fait l'objet d'une vingtaine de transactions et qui sont vus moins de 50 fois.\n",
        "Trois produits font office d'exception : un produit qui est ajouté au panier environ 300 fois et fait l'objet de 150 transactions. \n",
        " Et 2 produits qui sont peu ajoutés au panier mais sont directement achetés.\n",
        " On pourrait considérer ces produits comme des valeurs aberrantes."
      ],
      "id": "46cf09ed"
    },
    {
      "cell_type": "code",
      "metadata": {
        "id": "b88c582d"
      },
      "source": [
        "## NE PAS METTRE DANS LE FINAL (car pas besoin de classe pour clustering)\n",
        "\n",
        "# Remplacer les valeurs de la colonne Classe en données numériques pour pouvoir procéder à la standardisation\n",
        "\n",
        "#Profil_transaction['Classe'].replace(['Faible','Moyenne','Forte'], value =[1,2,3], inplace=True)\n",
        "#Profil_transaction.head(2)"
      ],
      "id": "b88c582d",
      "execution_count": null,
      "outputs": []
    },
    {
      "cell_type": "markdown",
      "metadata": {
        "id": "qaXDSZKU5Y4T"
      },
      "source": [
        "### Apprentissage non supervisé avec K-Means"
      ],
      "id": "qaXDSZKU5Y4T"
    },
    {
      "cell_type": "code",
      "metadata": {
        "id": "abf57404",
        "colab": {
          "base_uri": "https://localhost:8080/",
          "height": 338
        },
        "outputId": "a627a043-df08-419a-93ab-fdb428154eb6"
      },
      "source": [
        "# Algorithme des k-means avec n_clusters = 4\n",
        "\n",
        "# Normalisation des données\n",
        "\n",
        "SC = StandardScaler()\n",
        "Profil_transaction_norm = SC.fit_transform(Profil_transaction)\n",
        "Profil_transaction_norm\n",
        "\n",
        "# Création d'un dataframe avec les 4 premières colonnes \n",
        "#df_kmeans=pd.DataFrame(Profil_transaction_norm[:4],columns=['event_addtocart','event_transaction','event_view','visitorid'] )\n",
        "\n",
        "\n",
        "df_kmeans=pd.DataFrame(Profil_transaction_norm[:,:4], \n",
        "                       columns=['event_addtocart','event_transaction','event_view','visitorid'])\n",
        "df_kmeans.head()\n",
        "\n",
        "kmeans = KMeans(n_clusters=4)\n",
        "\n",
        "## Ajustement \n",
        "kmeans.fit(df_kmeans)\n",
        "\n",
        "## Prédictions\n",
        "y_kmeans = kmeans.predict(df_kmeans)\n",
        "\n",
        "y_kmeans\n",
        "\n",
        "# Afficher les coordonnées des clusters\n",
        "print(kmeans.cluster_centers_)\n",
        "\n",
        "# représenter les coordonnées dans un graphique\n",
        "\n",
        "plt.scatter(kmeans.cluster_centers_[:,0], kmeans.cluster_centers_[:,1]);"
      ],
      "id": "abf57404",
      "execution_count": null,
      "outputs": [
        {
          "output_type": "stream",
          "name": "stdout",
          "text": [
            "[[-0.24322739 -0.18806809 -0.32725009 -0.32660286]\n",
            " [11.7652701  12.11330394  9.50487596  9.93455638]\n",
            " [ 2.76408543  2.04015549  3.61950277  3.61586829]\n",
            " [ 0.59122046  0.42639816  0.9037082   0.89475441]]\n"
          ]
        },
        {
          "output_type": "display_data",
          "data": {
            "image/png": "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\n",
            "text/plain": [
              "<Figure size 432x288 with 1 Axes>"
            ]
          },
          "metadata": {
            "needs_background": "light"
          }
        }
      ]
    },
    {
      "cell_type": "markdown",
      "metadata": {
        "id": "CYILeetK5oD3"
      },
      "source": [
        "**Le KMeans ressort 4 groupes de produits**. "
      ],
      "id": "CYILeetK5oD3"
    },
    {
      "cell_type": "code",
      "metadata": {
        "id": "635d1241",
        "colab": {
          "base_uri": "https://localhost:8080/",
          "height": 206
        },
        "outputId": "81dc07ca-d18d-4658-8904-01dd7e2b1315"
      },
      "source": [
        "df_kmeans.head()"
      ],
      "id": "635d1241",
      "execution_count": null,
      "outputs": [
        {
          "output_type": "execute_result",
          "data": {
            "text/html": [
              "<div>\n",
              "<style scoped>\n",
              "    .dataframe tbody tr th:only-of-type {\n",
              "        vertical-align: middle;\n",
              "    }\n",
              "\n",
              "    .dataframe tbody tr th {\n",
              "        vertical-align: top;\n",
              "    }\n",
              "\n",
              "    .dataframe thead th {\n",
              "        text-align: right;\n",
              "    }\n",
              "</style>\n",
              "<table border=\"1\" class=\"dataframe\">\n",
              "  <thead>\n",
              "    <tr style=\"text-align: right;\">\n",
              "      <th></th>\n",
              "      <th>event_addtocart</th>\n",
              "      <th>event_transaction</th>\n",
              "      <th>event_view</th>\n",
              "      <th>visitorid</th>\n",
              "    </tr>\n",
              "  </thead>\n",
              "  <tbody>\n",
              "    <tr>\n",
              "      <th>0</th>\n",
              "      <td>44.659899</td>\n",
              "      <td>48.380378</td>\n",
              "      <td>23.680364</td>\n",
              "      <td>26.129386</td>\n",
              "    </tr>\n",
              "    <tr>\n",
              "      <th>1</th>\n",
              "      <td>5.908133</td>\n",
              "      <td>35.098439</td>\n",
              "      <td>6.540486</td>\n",
              "      <td>7.356121</td>\n",
              "    </tr>\n",
              "    <tr>\n",
              "      <th>2</th>\n",
              "      <td>1.914630</td>\n",
              "      <td>33.253725</td>\n",
              "      <td>2.138022</td>\n",
              "      <td>2.935175</td>\n",
              "    </tr>\n",
              "    <tr>\n",
              "      <th>3</th>\n",
              "      <td>23.361218</td>\n",
              "      <td>16.282357</td>\n",
              "      <td>8.410814</td>\n",
              "      <td>9.715160</td>\n",
              "    </tr>\n",
              "    <tr>\n",
              "      <th>4</th>\n",
              "      <td>13.747231</td>\n",
              "      <td>16.282357</td>\n",
              "      <td>12.237793</td>\n",
              "      <td>12.722484</td>\n",
              "    </tr>\n",
              "  </tbody>\n",
              "</table>\n",
              "</div>"
            ],
            "text/plain": [
              "   event_addtocart  event_transaction  event_view  visitorid\n",
              "0        44.659899          48.380378   23.680364  26.129386\n",
              "1         5.908133          35.098439    6.540486   7.356121\n",
              "2         1.914630          33.253725    2.138022   2.935175\n",
              "3        23.361218          16.282357    8.410814   9.715160\n",
              "4        13.747231          16.282357   12.237793  12.722484"
            ]
          },
          "metadata": {},
          "execution_count": 22
        }
      ]
    },
    {
      "cell_type": "code",
      "metadata": {
        "id": "c385ae2d",
        "colab": {
          "base_uri": "https://localhost:8080/",
          "height": 513
        },
        "outputId": "877fa0d7-5eea-4d3e-d787-d77546de8725"
      },
      "source": [
        "#Représentation graphique de chaque item en fonction du cluster auquel il appartient\n",
        "\n",
        "plt.figure(figsize=(10, 8))\n",
        "\n",
        "plt.scatter(df_kmeans[y_kmeans==0].iloc[:,0], \n",
        "            df_kmeans[y_kmeans==0].iloc[:,1], \n",
        "            s=5, \n",
        "            c='red', \n",
        "            label='Cluster 1')\n",
        "\n",
        "plt.scatter(df_kmeans[y_kmeans==1].iloc[:,0], \n",
        "            df_kmeans[y_kmeans==1].iloc[:,1],\n",
        "            s=20, \n",
        "            c='blue', \n",
        "            label='Cluster 2')\n",
        "\n",
        "plt.scatter(df_kmeans[y_kmeans==2].iloc[:,0], \n",
        "            df_kmeans[y_kmeans==2].iloc[:,1],\n",
        "            s=20, \n",
        "            c='green', \n",
        "            label='Cluster 3')\n",
        "\n",
        "\n",
        "plt.scatter(df_kmeans[y_kmeans==3].iloc[:,0], \n",
        "            df_kmeans[y_kmeans==3].iloc[:,1],\n",
        "            s=5, \n",
        "            c='yellow', \n",
        "            label='Cluster 4')\n",
        "\n",
        "plt.scatter(kmeans.cluster_centers_[:,0], kmeans.cluster_centers_[:,1] ,c='black', s=200)\n",
        "plt.xlabel('Ajouts au panier') \n",
        "plt.ylabel('Transactions')\n",
        "plt.title('Représentation des items selon leur cluster');"
      ],
      "id": "c385ae2d",
      "execution_count": null,
      "outputs": [
        {
          "output_type": "display_data",
          "data": {
            "image/png": "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\n",
            "text/plain": [
              "<Figure size 720x576 with 1 Axes>"
            ]
          },
          "metadata": {
            "needs_background": "light"
          }
        }
      ]
    },
    {
      "cell_type": "markdown",
      "metadata": {
        "id": "KuYXJWn_D3wq"
      },
      "source": [
        "**Vérification du cluster produit avec la méthode du coude**"
      ],
      "id": "KuYXJWn_D3wq"
    },
    {
      "cell_type": "code",
      "metadata": {
        "id": "25977d44",
        "colab": {
          "base_uri": "https://localhost:8080/",
          "height": 268
        },
        "outputId": "db5e48b7-123f-434c-dd3e-470409906a54"
      },
      "source": [
        "# Clusterisation avec la méthode du coude\n",
        "\n",
        "L = []\n",
        "\n",
        "for i in range(1,10):\n",
        "    kmeans = KMeans(n_clusters=i)\n",
        "    kmeans.fit(df_kmeans)\n",
        "    L.append(kmeans.inertia_) \n",
        "\n",
        "fig = plt.figure()\n",
        "ax = fig.add_subplot(111)    \n",
        "ax.plot(range(1, 10), L, c='red');"
      ],
      "id": "25977d44",
      "execution_count": null,
      "outputs": [
        {
          "output_type": "display_data",
          "data": {
            "image/png": "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\n",
            "text/plain": [
              "<Figure size 432x288 with 1 Axes>"
            ]
          },
          "metadata": {
            "needs_background": "light"
          }
        }
      ]
    },
    {
      "cell_type": "markdown",
      "metadata": {
        "id": "Z3pdp3zJI8N2"
      },
      "source": [
        "On estime que le coude optimal = 3"
      ],
      "id": "Z3pdp3zJI8N2"
    },
    {
      "cell_type": "code",
      "metadata": {
        "id": "c5618e0f",
        "colab": {
          "base_uri": "https://localhost:8080/"
        },
        "outputId": "26cc3365-eaf1-436c-a03a-3ce74a96b425"
      },
      "source": [
        "kmeans = KMeans(n_clusters = 3)\n",
        "kmeans.fit(df_kmeans)\n",
        "y_kmeans = kmeans.fit_predict(df_kmeans)\n",
        "y_kmeans"
      ],
      "id": "c5618e0f",
      "execution_count": null,
      "outputs": [
        {
          "output_type": "execute_result",
          "data": {
            "text/plain": [
              "array([2, 2, 2, ..., 0, 0, 0], dtype=int32)"
            ]
          },
          "metadata": {},
          "execution_count": 41
        }
      ]
    },
    {
      "cell_type": "code",
      "metadata": {
        "id": "6b5d452c",
        "colab": {
          "base_uri": "https://localhost:8080/",
          "height": 264
        },
        "outputId": "e7aff2ae-cc1c-4d31-f3e3-3a914a3d284c"
      },
      "source": [
        "plt.scatter(kmeans.cluster_centers_[:,0], kmeans.cluster_centers_[:,1]);"
      ],
      "id": "6b5d452c",
      "execution_count": null,
      "outputs": [
        {
          "output_type": "display_data",
          "data": {
            "image/png": "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\n",
            "text/plain": [
              "<Figure size 432x288 with 1 Axes>"
            ]
          },
          "metadata": {
            "needs_background": "light"
          }
        }
      ]
    },
    {
      "cell_type": "code",
      "metadata": {
        "id": "790c90eb",
        "colab": {
          "base_uri": "https://localhost:8080/",
          "height": 606
        },
        "outputId": "93f7c357-610f-43b9-a6c9-943060455d3a"
      },
      "source": [
        "plt.figure(figsize=(12, 10))\n",
        "\n",
        "plt.scatter(df_kmeans[y_kmeans==0].iloc[:,0], df_kmeans[y_kmeans==0].iloc[:,1],\n",
        "            s=20, c='red', label='Cluster 1')\n",
        "\n",
        "plt.scatter(df_kmeans[y_kmeans==1].iloc[:,0], df_kmeans[y_kmeans==1].iloc[:,1], \n",
        "            s=20, c='blue', label='Cluster 2')\n",
        "\n",
        "plt.scatter(df_kmeans[y_kmeans==2].iloc[:,0], df_kmeans[y_kmeans==2].iloc[:,1], \n",
        "            s=20, c='yellow', label='Cluster 3')\n",
        "\n",
        "plt.scatter(kmeans.cluster_centers_[:, 0], kmeans.cluster_centers_[:, 1],\n",
        "            s=100, c='black', label='Centroids')\n",
        "\n",
        "plt.title('Clusters of products')\n",
        "plt.ylabel('Transactions')\n",
        "plt.legend(loc='best');"
      ],
      "id": "790c90eb",
      "execution_count": null,
      "outputs": [
        {
          "output_type": "display_data",
          "data": {
            "image/png": "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\n",
            "text/plain": [
              "<Figure size 864x720 with 1 Axes>"
            ]
          },
          "metadata": {
            "needs_background": "light"
          }
        }
      ]
    },
    {
      "cell_type": "markdown",
      "metadata": {
        "id": "9B-DGCWCFYFi"
      },
      "source": [
        "## **Conclusion sur le clustering des produits**"
      ],
      "id": "9B-DGCWCFYFi"
    },
    {
      "cell_type": "markdown",
      "metadata": {
        "id": "QxIQzg5bFgYj"
      },
      "source": [
        "La méthode du coude donne une classification plus pertinente car elle exclue les valeurs aberrantes constatées sur 3 produits ( 461686, 119736 et 213834).\n",
        "\n",
        "On peut donc classer les produits vendus de l'entreprise en 3 clusters disticts.selon les transactions réalisées par évènement corrélés."
      ],
      "id": "QxIQzg5bFgYj"
    },
    {
      "cell_type": "markdown",
      "metadata": {
        "id": "FRD5eTTvM5_F"
      },
      "source": [
        "# 1 bis. Clustering des produits"
      ],
      "id": "FRD5eTTvM5_F"
    },
    {
      "cell_type": "code",
      "metadata": {
        "id": "BizKL6PDM-f0"
      },
      "source": [
        "events = pd.read_csv('events.csv')\n",
        "\n",
        "# Décomposer la date en année, mois, jour et heure. A voir pour une exploitation future dans la table event\n",
        "events['date']  = pd.to_datetime(events['timestamp'],unit='ms')\n",
        "events['jour']  = pd.to_datetime(events['date']).dt.day\n",
        "events['mois']  = pd.to_datetime(events['date']).dt.month\n",
        "events['annee'] = pd.to_datetime(events['date']).dt.year\n",
        "#events['jour_de_la_semaine']  = pd.to_datetime(events['date']).dt.day_name() # jdls : \n",
        "events['heure'] = pd.to_datetime(events['date']).dt.hour\n",
        "\n",
        "#print(events.info())\n",
        "events.head()\n",
        "\n",
        "# Création d'un sub dataframe avec les colonnes à utiliser dans le cadre de l'hypothèse de clustering par l'heure\n",
        "\n",
        "subevents = events[[\"itemid\", \"event\",\"transactionid\",\"date\",\"heure\"]]\n",
        "subevents.head()\n",
        "\n",
        "def get_time_periods(hour):\n",
        "    if hour >= 3 and hour < 7:\n",
        "        return 'aube'\n",
        "    elif hour >= 7 and hour < 12:\n",
        "        return 'matin'\n",
        "    elif hour >= 12 and hour < 18:\n",
        "        return 'apres_midi' \n",
        "    elif hour >= 18 and hour < 22:\n",
        "        return 'soir'\n",
        "    else:\n",
        "        return 'nuit'\n"
      ],
      "id": "BizKL6PDM-f0",
      "execution_count": null,
      "outputs": []
    },
    {
      "cell_type": "code",
      "metadata": {
        "id": "_B_1mJSgM--B",
        "colab": {
          "base_uri": "https://localhost:8080/"
        },
        "outputId": "d7df541b-ced9-437c-df94-718ee79a5229"
      },
      "source": [
        "subevents['ppj'] = events['heure'].map(get_time_periods) # la variable ppj :: periodes_par_jour"
      ],
      "id": "_B_1mJSgM--B",
      "execution_count": null,
      "outputs": [
        {
          "output_type": "stream",
          "name": "stderr",
          "text": [
            "/usr/local/lib/python3.7/dist-packages/ipykernel_launcher.py:1: SettingWithCopyWarning: \n",
            "A value is trying to be set on a copy of a slice from a DataFrame.\n",
            "Try using .loc[row_indexer,col_indexer] = value instead\n",
            "\n",
            "See the caveats in the documentation: https://pandas.pydata.org/pandas-docs/stable/user_guide/indexing.html#returning-a-view-versus-a-copy\n",
            "  \"\"\"Entry point for launching an IPython kernel.\n"
          ]
        }
      ]
    },
    {
      "cell_type": "code",
      "metadata": {
        "id": "kQsjuBboM_DA",
        "colab": {
          "base_uri": "https://localhost:8080/"
        },
        "outputId": "2df42854-b651-4db6-cc85-e648aefcf7a3"
      },
      "source": [
        "subevents['ppj_num'] = subevents['ppj'].replace({'aube': 0, 'matin': 1, 'apres_midi': 2, 'soir': 3, 'nuit': 4})\n"
      ],
      "id": "kQsjuBboM_DA",
      "execution_count": null,
      "outputs": [
        {
          "output_type": "stream",
          "name": "stderr",
          "text": [
            "/usr/local/lib/python3.7/dist-packages/ipykernel_launcher.py:1: SettingWithCopyWarning: \n",
            "A value is trying to be set on a copy of a slice from a DataFrame.\n",
            "Try using .loc[row_indexer,col_indexer] = value instead\n",
            "\n",
            "See the caveats in the documentation: https://pandas.pydata.org/pandas-docs/stable/user_guide/indexing.html#returning-a-view-versus-a-copy\n",
            "  \"\"\"Entry point for launching an IPython kernel.\n"
          ]
        }
      ]
    },
    {
      "cell_type": "code",
      "metadata": {
        "id": "shD6JZp8M_HT",
        "colab": {
          "base_uri": "https://localhost:8080/",
          "height": 206
        },
        "outputId": "8175f547-e2fa-4713-f9aa-cd55d26a97c4"
      },
      "source": [
        "subevents = subevents.join(pd.get_dummies(subevents['ppj'], prefix='p'))\n",
        "subevents = subevents.join(pd.get_dummies(subevents['event'], prefix='event'))\n",
        "\n",
        "subevents.head()"
      ],
      "id": "shD6JZp8M_HT",
      "execution_count": null,
      "outputs": [
        {
          "output_type": "execute_result",
          "data": {
            "text/html": [
              "<div>\n",
              "<style scoped>\n",
              "    .dataframe tbody tr th:only-of-type {\n",
              "        vertical-align: middle;\n",
              "    }\n",
              "\n",
              "    .dataframe tbody tr th {\n",
              "        vertical-align: top;\n",
              "    }\n",
              "\n",
              "    .dataframe thead th {\n",
              "        text-align: right;\n",
              "    }\n",
              "</style>\n",
              "<table border=\"1\" class=\"dataframe\">\n",
              "  <thead>\n",
              "    <tr style=\"text-align: right;\">\n",
              "      <th></th>\n",
              "      <th>itemid</th>\n",
              "      <th>event</th>\n",
              "      <th>transactionid</th>\n",
              "      <th>date</th>\n",
              "      <th>heure</th>\n",
              "      <th>ppj</th>\n",
              "      <th>ppj_num</th>\n",
              "      <th>p_apres_midi</th>\n",
              "      <th>p_aube</th>\n",
              "      <th>p_matin</th>\n",
              "      <th>p_nuit</th>\n",
              "      <th>p_soir</th>\n",
              "      <th>event_addtocart</th>\n",
              "      <th>event_transaction</th>\n",
              "      <th>event_view</th>\n",
              "    </tr>\n",
              "  </thead>\n",
              "  <tbody>\n",
              "    <tr>\n",
              "      <th>0</th>\n",
              "      <td>355908</td>\n",
              "      <td>view</td>\n",
              "      <td>NaN</td>\n",
              "      <td>2015-06-02 05:02:12.117</td>\n",
              "      <td>5</td>\n",
              "      <td>aube</td>\n",
              "      <td>0</td>\n",
              "      <td>0</td>\n",
              "      <td>1</td>\n",
              "      <td>0</td>\n",
              "      <td>0</td>\n",
              "      <td>0</td>\n",
              "      <td>0</td>\n",
              "      <td>0</td>\n",
              "      <td>1</td>\n",
              "    </tr>\n",
              "    <tr>\n",
              "      <th>1</th>\n",
              "      <td>248676</td>\n",
              "      <td>view</td>\n",
              "      <td>NaN</td>\n",
              "      <td>2015-06-02 05:50:14.164</td>\n",
              "      <td>5</td>\n",
              "      <td>aube</td>\n",
              "      <td>0</td>\n",
              "      <td>0</td>\n",
              "      <td>1</td>\n",
              "      <td>0</td>\n",
              "      <td>0</td>\n",
              "      <td>0</td>\n",
              "      <td>0</td>\n",
              "      <td>0</td>\n",
              "      <td>1</td>\n",
              "    </tr>\n",
              "    <tr>\n",
              "      <th>2</th>\n",
              "      <td>318965</td>\n",
              "      <td>view</td>\n",
              "      <td>NaN</td>\n",
              "      <td>2015-06-02 05:13:19.827</td>\n",
              "      <td>5</td>\n",
              "      <td>aube</td>\n",
              "      <td>0</td>\n",
              "      <td>0</td>\n",
              "      <td>1</td>\n",
              "      <td>0</td>\n",
              "      <td>0</td>\n",
              "      <td>0</td>\n",
              "      <td>0</td>\n",
              "      <td>0</td>\n",
              "      <td>1</td>\n",
              "    </tr>\n",
              "    <tr>\n",
              "      <th>3</th>\n",
              "      <td>253185</td>\n",
              "      <td>view</td>\n",
              "      <td>NaN</td>\n",
              "      <td>2015-06-02 05:12:35.914</td>\n",
              "      <td>5</td>\n",
              "      <td>aube</td>\n",
              "      <td>0</td>\n",
              "      <td>0</td>\n",
              "      <td>1</td>\n",
              "      <td>0</td>\n",
              "      <td>0</td>\n",
              "      <td>0</td>\n",
              "      <td>0</td>\n",
              "      <td>0</td>\n",
              "      <td>1</td>\n",
              "    </tr>\n",
              "    <tr>\n",
              "      <th>4</th>\n",
              "      <td>367447</td>\n",
              "      <td>view</td>\n",
              "      <td>NaN</td>\n",
              "      <td>2015-06-02 05:02:17.106</td>\n",
              "      <td>5</td>\n",
              "      <td>aube</td>\n",
              "      <td>0</td>\n",
              "      <td>0</td>\n",
              "      <td>1</td>\n",
              "      <td>0</td>\n",
              "      <td>0</td>\n",
              "      <td>0</td>\n",
              "      <td>0</td>\n",
              "      <td>0</td>\n",
              "      <td>1</td>\n",
              "    </tr>\n",
              "  </tbody>\n",
              "</table>\n",
              "</div>"
            ],
            "text/plain": [
              "   itemid event  transactionid  ... event_addtocart  event_transaction event_view\n",
              "0  355908  view            NaN  ...               0                  0          1\n",
              "1  248676  view            NaN  ...               0                  0          1\n",
              "2  318965  view            NaN  ...               0                  0          1\n",
              "3  253185  view            NaN  ...               0                  0          1\n",
              "4  367447  view            NaN  ...               0                  0          1\n",
              "\n",
              "[5 rows x 15 columns]"
            ]
          },
          "metadata": {},
          "execution_count": 49
        }
      ]
    },
    {
      "cell_type": "code",
      "metadata": {
        "id": "NLVHLW1oM_Lk"
      },
      "source": [
        "# supprimer la colonne date \n",
        "subevents = subevents.drop('date', axis = 1)"
      ],
      "id": "NLVHLW1oM_Lk",
      "execution_count": null,
      "outputs": []
    },
    {
      "cell_type": "code",
      "metadata": {
        "id": "2oQu051BM_PY",
        "colab": {
          "base_uri": "https://localhost:8080/",
          "height": 206
        },
        "outputId": "866f1861-7437-46cc-eee9-5d1cf43f8970"
      },
      "source": [
        "# filtrer les données et afficher que les produits achétés \"event_transaction = 1\"\n",
        "\n",
        "subevents_trans = subevents[subevents['event_transaction']!=0]\n",
        "subevents_trans.head()"
      ],
      "id": "2oQu051BM_PY",
      "execution_count": null,
      "outputs": [
        {
          "output_type": "execute_result",
          "data": {
            "text/html": [
              "<div>\n",
              "<style scoped>\n",
              "    .dataframe tbody tr th:only-of-type {\n",
              "        vertical-align: middle;\n",
              "    }\n",
              "\n",
              "    .dataframe tbody tr th {\n",
              "        vertical-align: top;\n",
              "    }\n",
              "\n",
              "    .dataframe thead th {\n",
              "        text-align: right;\n",
              "    }\n",
              "</style>\n",
              "<table border=\"1\" class=\"dataframe\">\n",
              "  <thead>\n",
              "    <tr style=\"text-align: right;\">\n",
              "      <th></th>\n",
              "      <th>itemid</th>\n",
              "      <th>event</th>\n",
              "      <th>transactionid</th>\n",
              "      <th>heure</th>\n",
              "      <th>ppj</th>\n",
              "      <th>ppj_num</th>\n",
              "      <th>p_apres_midi</th>\n",
              "      <th>p_aube</th>\n",
              "      <th>p_matin</th>\n",
              "      <th>p_nuit</th>\n",
              "      <th>p_soir</th>\n",
              "      <th>event_addtocart</th>\n",
              "      <th>event_transaction</th>\n",
              "      <th>event_view</th>\n",
              "    </tr>\n",
              "  </thead>\n",
              "  <tbody>\n",
              "    <tr>\n",
              "      <th>130</th>\n",
              "      <td>356475</td>\n",
              "      <td>transaction</td>\n",
              "      <td>4000.0</td>\n",
              "      <td>5</td>\n",
              "      <td>aube</td>\n",
              "      <td>0</td>\n",
              "      <td>0</td>\n",
              "      <td>1</td>\n",
              "      <td>0</td>\n",
              "      <td>0</td>\n",
              "      <td>0</td>\n",
              "      <td>0</td>\n",
              "      <td>1</td>\n",
              "      <td>0</td>\n",
              "    </tr>\n",
              "    <tr>\n",
              "      <th>304</th>\n",
              "      <td>15335</td>\n",
              "      <td>transaction</td>\n",
              "      <td>11117.0</td>\n",
              "      <td>21</td>\n",
              "      <td>soir</td>\n",
              "      <td>3</td>\n",
              "      <td>0</td>\n",
              "      <td>0</td>\n",
              "      <td>0</td>\n",
              "      <td>0</td>\n",
              "      <td>1</td>\n",
              "      <td>0</td>\n",
              "      <td>1</td>\n",
              "      <td>0</td>\n",
              "    </tr>\n",
              "    <tr>\n",
              "      <th>418</th>\n",
              "      <td>81345</td>\n",
              "      <td>transaction</td>\n",
              "      <td>5444.0</td>\n",
              "      <td>21</td>\n",
              "      <td>soir</td>\n",
              "      <td>3</td>\n",
              "      <td>0</td>\n",
              "      <td>0</td>\n",
              "      <td>0</td>\n",
              "      <td>0</td>\n",
              "      <td>1</td>\n",
              "      <td>0</td>\n",
              "      <td>1</td>\n",
              "      <td>0</td>\n",
              "    </tr>\n",
              "    <tr>\n",
              "      <th>814</th>\n",
              "      <td>150318</td>\n",
              "      <td>transaction</td>\n",
              "      <td>13556.0</td>\n",
              "      <td>16</td>\n",
              "      <td>apres_midi</td>\n",
              "      <td>2</td>\n",
              "      <td>1</td>\n",
              "      <td>0</td>\n",
              "      <td>0</td>\n",
              "      <td>0</td>\n",
              "      <td>0</td>\n",
              "      <td>0</td>\n",
              "      <td>1</td>\n",
              "      <td>0</td>\n",
              "    </tr>\n",
              "    <tr>\n",
              "      <th>843</th>\n",
              "      <td>310791</td>\n",
              "      <td>transaction</td>\n",
              "      <td>7244.0</td>\n",
              "      <td>16</td>\n",
              "      <td>apres_midi</td>\n",
              "      <td>2</td>\n",
              "      <td>1</td>\n",
              "      <td>0</td>\n",
              "      <td>0</td>\n",
              "      <td>0</td>\n",
              "      <td>0</td>\n",
              "      <td>0</td>\n",
              "      <td>1</td>\n",
              "      <td>0</td>\n",
              "    </tr>\n",
              "  </tbody>\n",
              "</table>\n",
              "</div>"
            ],
            "text/plain": [
              "     itemid        event  ...  event_transaction  event_view\n",
              "130  356475  transaction  ...                  1           0\n",
              "304   15335  transaction  ...                  1           0\n",
              "418   81345  transaction  ...                  1           0\n",
              "814  150318  transaction  ...                  1           0\n",
              "843  310791  transaction  ...                  1           0\n",
              "\n",
              "[5 rows x 14 columns]"
            ]
          },
          "metadata": {},
          "execution_count": 52
        }
      ]
    },
    {
      "cell_type": "code",
      "metadata": {
        "id": "914VvZOnM_Tz",
        "colab": {
          "base_uri": "https://localhost:8080/",
          "height": 206
        },
        "outputId": "51bd8fcf-4e58-4eea-ebb5-3a10f58842ad"
      },
      "source": [
        "# Verifier au global le nombre des item_trans en appliquant groupby periodes_par_jour: \n",
        "data = pd.DataFrame(subevents_trans.groupby(['ppj'])['transactionid'].count()).reset_index()\n",
        "data"
      ],
      "id": "914VvZOnM_Tz",
      "execution_count": null,
      "outputs": [
        {
          "output_type": "execute_result",
          "data": {
            "text/html": [
              "<div>\n",
              "<style scoped>\n",
              "    .dataframe tbody tr th:only-of-type {\n",
              "        vertical-align: middle;\n",
              "    }\n",
              "\n",
              "    .dataframe tbody tr th {\n",
              "        vertical-align: top;\n",
              "    }\n",
              "\n",
              "    .dataframe thead th {\n",
              "        text-align: right;\n",
              "    }\n",
              "</style>\n",
              "<table border=\"1\" class=\"dataframe\">\n",
              "  <thead>\n",
              "    <tr style=\"text-align: right;\">\n",
              "      <th></th>\n",
              "      <th>ppj</th>\n",
              "      <th>transactionid</th>\n",
              "    </tr>\n",
              "  </thead>\n",
              "  <tbody>\n",
              "    <tr>\n",
              "      <th>0</th>\n",
              "      <td>apres_midi</td>\n",
              "      <td>5532</td>\n",
              "    </tr>\n",
              "    <tr>\n",
              "      <th>1</th>\n",
              "      <td>aube</td>\n",
              "      <td>2807</td>\n",
              "    </tr>\n",
              "    <tr>\n",
              "      <th>2</th>\n",
              "      <td>matin</td>\n",
              "      <td>595</td>\n",
              "    </tr>\n",
              "    <tr>\n",
              "      <th>3</th>\n",
              "      <td>nuit</td>\n",
              "      <td>6079</td>\n",
              "    </tr>\n",
              "    <tr>\n",
              "      <th>4</th>\n",
              "      <td>soir</td>\n",
              "      <td>7444</td>\n",
              "    </tr>\n",
              "  </tbody>\n",
              "</table>\n",
              "</div>"
            ],
            "text/plain": [
              "          ppj  transactionid\n",
              "0  apres_midi           5532\n",
              "1        aube           2807\n",
              "2       matin            595\n",
              "3        nuit           6079\n",
              "4        soir           7444"
            ]
          },
          "metadata": {},
          "execution_count": 53
        }
      ]
    },
    {
      "cell_type": "code",
      "metadata": {
        "id": "azvkQxJSNHEc"
      },
      "source": [
        "# Grouper les données par item - \n",
        "# L'aggrégation par type d'évènement n'est plus nécessaire puisque nous n'avons filtré que sur les transactions\n",
        "\n",
        "df = subevents_trans.groupby('itemid').agg({ \n",
        "                                  'event_transaction': 'count',\n",
        "                                  'p_aube': 'sum', \n",
        "                                  'p_matin': 'sum',\n",
        "                                  'p_apres_midi': 'sum',\n",
        "                                  'p_soir': 'sum',\n",
        "                                  'p_nuit': 'sum'}).astype('int').sort_values(by='event_transaction', ascending=False)"
      ],
      "id": "azvkQxJSNHEc",
      "execution_count": null,
      "outputs": []
    },
    {
      "cell_type": "code",
      "metadata": {
        "colab": {
          "base_uri": "https://localhost:8080/",
          "height": 237
        },
        "id": "SFF3Jy4cN1bs",
        "outputId": "c0e2e389-9e6f-4849-f5de-4b058f5cf881"
      },
      "source": [
        "df['freq_aube'] = (df['p_aube'] / df['event_transaction'] *100).round(2)\n",
        "df['freq_matin'] = (df['p_matin'] / df['event_transaction'] *100).round(2)\n",
        "df['freq_apres_midi'] = (df['p_apres_midi'] / df['event_transaction'] *100).round(2)\n",
        "df['freq_soir'] = (df['p_soir'] / df['event_transaction'] *100).round(2)\n",
        "df['freq_nuit'] = (df['p_nuit'] / df['event_transaction'] *100).round(2)\n",
        "\n",
        "df.head()"
      ],
      "id": "SFF3Jy4cN1bs",
      "execution_count": null,
      "outputs": [
        {
          "output_type": "execute_result",
          "data": {
            "text/html": [
              "<div>\n",
              "<style scoped>\n",
              "    .dataframe tbody tr th:only-of-type {\n",
              "        vertical-align: middle;\n",
              "    }\n",
              "\n",
              "    .dataframe tbody tr th {\n",
              "        vertical-align: top;\n",
              "    }\n",
              "\n",
              "    .dataframe thead th {\n",
              "        text-align: right;\n",
              "    }\n",
              "</style>\n",
              "<table border=\"1\" class=\"dataframe\">\n",
              "  <thead>\n",
              "    <tr style=\"text-align: right;\">\n",
              "      <th></th>\n",
              "      <th>event_transaction</th>\n",
              "      <th>p_aube</th>\n",
              "      <th>p_matin</th>\n",
              "      <th>p_apres_midi</th>\n",
              "      <th>p_soir</th>\n",
              "      <th>p_nuit</th>\n",
              "      <th>freq_aube</th>\n",
              "      <th>freq_matin</th>\n",
              "      <th>freq_apres_midi</th>\n",
              "      <th>freq_soir</th>\n",
              "      <th>freq_nuit</th>\n",
              "    </tr>\n",
              "    <tr>\n",
              "      <th>itemid</th>\n",
              "      <th></th>\n",
              "      <th></th>\n",
              "      <th></th>\n",
              "      <th></th>\n",
              "      <th></th>\n",
              "      <th></th>\n",
              "      <th></th>\n",
              "      <th></th>\n",
              "      <th></th>\n",
              "      <th></th>\n",
              "      <th></th>\n",
              "    </tr>\n",
              "  </thead>\n",
              "  <tbody>\n",
              "    <tr>\n",
              "      <th>461686</th>\n",
              "      <td>133</td>\n",
              "      <td>35</td>\n",
              "      <td>8</td>\n",
              "      <td>24</td>\n",
              "      <td>36</td>\n",
              "      <td>30</td>\n",
              "      <td>26.32</td>\n",
              "      <td>6.02</td>\n",
              "      <td>18.05</td>\n",
              "      <td>27.07</td>\n",
              "      <td>22.56</td>\n",
              "    </tr>\n",
              "    <tr>\n",
              "      <th>119736</th>\n",
              "      <td>97</td>\n",
              "      <td>0</td>\n",
              "      <td>0</td>\n",
              "      <td>29</td>\n",
              "      <td>39</td>\n",
              "      <td>29</td>\n",
              "      <td>0.00</td>\n",
              "      <td>0.00</td>\n",
              "      <td>29.90</td>\n",
              "      <td>40.21</td>\n",
              "      <td>29.90</td>\n",
              "    </tr>\n",
              "    <tr>\n",
              "      <th>213834</th>\n",
              "      <td>92</td>\n",
              "      <td>17</td>\n",
              "      <td>2</td>\n",
              "      <td>23</td>\n",
              "      <td>19</td>\n",
              "      <td>31</td>\n",
              "      <td>18.48</td>\n",
              "      <td>2.17</td>\n",
              "      <td>25.00</td>\n",
              "      <td>20.65</td>\n",
              "      <td>33.70</td>\n",
              "    </tr>\n",
              "    <tr>\n",
              "      <th>312728</th>\n",
              "      <td>46</td>\n",
              "      <td>4</td>\n",
              "      <td>3</td>\n",
              "      <td>13</td>\n",
              "      <td>10</td>\n",
              "      <td>16</td>\n",
              "      <td>8.70</td>\n",
              "      <td>6.52</td>\n",
              "      <td>28.26</td>\n",
              "      <td>21.74</td>\n",
              "      <td>34.78</td>\n",
              "    </tr>\n",
              "    <tr>\n",
              "      <th>7943</th>\n",
              "      <td>46</td>\n",
              "      <td>11</td>\n",
              "      <td>0</td>\n",
              "      <td>11</td>\n",
              "      <td>15</td>\n",
              "      <td>9</td>\n",
              "      <td>23.91</td>\n",
              "      <td>0.00</td>\n",
              "      <td>23.91</td>\n",
              "      <td>32.61</td>\n",
              "      <td>19.57</td>\n",
              "    </tr>\n",
              "  </tbody>\n",
              "</table>\n",
              "</div>"
            ],
            "text/plain": [
              "        event_transaction  p_aube  ...  freq_soir  freq_nuit\n",
              "itemid                             ...                      \n",
              "461686                133      35  ...      27.07      22.56\n",
              "119736                 97       0  ...      40.21      29.90\n",
              "213834                 92      17  ...      20.65      33.70\n",
              "312728                 46       4  ...      21.74      34.78\n",
              "7943                   46      11  ...      32.61      19.57\n",
              "\n",
              "[5 rows x 11 columns]"
            ]
          },
          "metadata": {},
          "execution_count": 62
        }
      ]
    },
    {
      "cell_type": "code",
      "metadata": {
        "colab": {
          "base_uri": "https://localhost:8080/",
          "height": 237
        },
        "id": "5BPAs2ngN1js",
        "outputId": "da1075a3-8b9b-4e98-ce55-ed0b802461d5"
      },
      "source": [
        "df = df.drop(['p_aube', 'p_matin', 'p_apres_midi', 'p_soir', 'p_nuit'], axis=1)\n",
        "df.head()"
      ],
      "id": "5BPAs2ngN1js",
      "execution_count": null,
      "outputs": [
        {
          "output_type": "execute_result",
          "data": {
            "text/html": [
              "<div>\n",
              "<style scoped>\n",
              "    .dataframe tbody tr th:only-of-type {\n",
              "        vertical-align: middle;\n",
              "    }\n",
              "\n",
              "    .dataframe tbody tr th {\n",
              "        vertical-align: top;\n",
              "    }\n",
              "\n",
              "    .dataframe thead th {\n",
              "        text-align: right;\n",
              "    }\n",
              "</style>\n",
              "<table border=\"1\" class=\"dataframe\">\n",
              "  <thead>\n",
              "    <tr style=\"text-align: right;\">\n",
              "      <th></th>\n",
              "      <th>event_transaction</th>\n",
              "      <th>freq_aube</th>\n",
              "      <th>freq_matin</th>\n",
              "      <th>freq_apres_midi</th>\n",
              "      <th>freq_soir</th>\n",
              "      <th>freq_nuit</th>\n",
              "    </tr>\n",
              "    <tr>\n",
              "      <th>itemid</th>\n",
              "      <th></th>\n",
              "      <th></th>\n",
              "      <th></th>\n",
              "      <th></th>\n",
              "      <th></th>\n",
              "      <th></th>\n",
              "    </tr>\n",
              "  </thead>\n",
              "  <tbody>\n",
              "    <tr>\n",
              "      <th>461686</th>\n",
              "      <td>133</td>\n",
              "      <td>26.32</td>\n",
              "      <td>6.02</td>\n",
              "      <td>18.05</td>\n",
              "      <td>27.07</td>\n",
              "      <td>22.56</td>\n",
              "    </tr>\n",
              "    <tr>\n",
              "      <th>119736</th>\n",
              "      <td>97</td>\n",
              "      <td>0.00</td>\n",
              "      <td>0.00</td>\n",
              "      <td>29.90</td>\n",
              "      <td>40.21</td>\n",
              "      <td>29.90</td>\n",
              "    </tr>\n",
              "    <tr>\n",
              "      <th>213834</th>\n",
              "      <td>92</td>\n",
              "      <td>18.48</td>\n",
              "      <td>2.17</td>\n",
              "      <td>25.00</td>\n",
              "      <td>20.65</td>\n",
              "      <td>33.70</td>\n",
              "    </tr>\n",
              "    <tr>\n",
              "      <th>312728</th>\n",
              "      <td>46</td>\n",
              "      <td>8.70</td>\n",
              "      <td>6.52</td>\n",
              "      <td>28.26</td>\n",
              "      <td>21.74</td>\n",
              "      <td>34.78</td>\n",
              "    </tr>\n",
              "    <tr>\n",
              "      <th>7943</th>\n",
              "      <td>46</td>\n",
              "      <td>23.91</td>\n",
              "      <td>0.00</td>\n",
              "      <td>23.91</td>\n",
              "      <td>32.61</td>\n",
              "      <td>19.57</td>\n",
              "    </tr>\n",
              "  </tbody>\n",
              "</table>\n",
              "</div>"
            ],
            "text/plain": [
              "        event_transaction  freq_aube  ...  freq_soir  freq_nuit\n",
              "itemid                                ...                      \n",
              "461686                133      26.32  ...      27.07      22.56\n",
              "119736                 97       0.00  ...      40.21      29.90\n",
              "213834                 92      18.48  ...      20.65      33.70\n",
              "312728                 46       8.70  ...      21.74      34.78\n",
              "7943                   46      23.91  ...      32.61      19.57\n",
              "\n",
              "[5 rows x 6 columns]"
            ]
          },
          "metadata": {},
          "execution_count": 64
        }
      ]
    },
    {
      "cell_type": "code",
      "metadata": {
        "id": "0N0tB0CBNHOw",
        "colab": {
          "base_uri": "https://localhost:8080/",
          "height": 500
        },
        "outputId": "47e80374-58d9-4274-92ac-ad858d1fa3cc"
      },
      "source": [
        "# Détection des valeurs aberrantes en tracant les boîtes à moustaches pour chacune des variables explicatives\n",
        "\n",
        "plt.figure(figsize= (20,8))\n",
        "plt.title('Diagrammes en boîte correspondants aux variables explicatives')\n",
        "plt.boxplot(df.values, 0, 'bD', labels = df.keys())\n",
        "plt.show()\n",
        "\n",
        "# on a 3 valeurs extrement aberrantes : les 3 produits les plus achetés (cf visualisations précédentes)"
      ],
      "id": "0N0tB0CBNHOw",
      "execution_count": null,
      "outputs": [
        {
          "output_type": "display_data",
          "data": {
            "image/png": "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\n",
            "text/plain": [
              "<Figure size 1440x576 with 1 Axes>"
            ]
          },
          "metadata": {
            "needs_background": "light"
          }
        }
      ]
    },
    {
      "cell_type": "code",
      "metadata": {
        "id": "fypaYwRTNHUN",
        "colab": {
          "base_uri": "https://localhost:8080/"
        },
        "outputId": "226675d7-4ddc-4e72-a3b4-6f7b1dce4392"
      },
      "source": [
        "from sklearn.cluster import KMeans \n",
        "\n",
        "kmeans = KMeans(n_clusters = 3) \n",
        "kmeans.fit(df)\n",
        "y_kmeans = kmeans.predict(df)\n",
        "\n",
        "# Centroids and labels\n",
        "centroids = kmeans.cluster_centers_\n",
        "labels = kmeans.labels_\n",
        "print(len(labels))\n",
        "print('labels sans doublons : ', list(set(labels)))"
      ],
      "id": "fypaYwRTNHUN",
      "execution_count": null,
      "outputs": [
        {
          "output_type": "stream",
          "name": "stdout",
          "text": [
            "12025\n",
            "labels sans doublons :  [0, 1, 2]\n"
          ]
        }
      ]
    },
    {
      "cell_type": "code",
      "metadata": {
        "colab": {
          "base_uri": "https://localhost:8080/"
        },
        "id": "Cxo1xsPjR5bD",
        "outputId": "8adb5542-ea8a-474b-93f8-57f534fb2028"
      },
      "source": [
        "kmeans.labels_"
      ],
      "id": "Cxo1xsPjR5bD",
      "execution_count": null,
      "outputs": [
        {
          "output_type": "execute_result",
          "data": {
            "text/plain": [
              "array([0, 0, 0, ..., 0, 0, 0], dtype=int32)"
            ]
          },
          "metadata": {},
          "execution_count": 71
        }
      ]
    },
    {
      "cell_type": "code",
      "metadata": {
        "colab": {
          "base_uri": "https://localhost:8080/",
          "height": 1000
        },
        "id": "2070GfXWSfb6",
        "outputId": "102a0fc6-1e71-4099-84ab-cd9b6a429a83"
      },
      "source": [
        "# on fait un pairplot des items colorié en fonction du cluster attribué\n",
        "D = df.copy()\n",
        "D['labels_kmeans'] = kmeans.labels_\n",
        "sns.pairplot(D, hue='labels_kmeans');"
      ],
      "id": "2070GfXWSfb6",
      "execution_count": null,
      "outputs": [
        {
          "output_type": "display_data",
          "data": {
            "image/png": "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\n",
            "text/plain": [
              "<Figure size 1161.75x1080 with 42 Axes>"
            ]
          },
          "metadata": {
            "needs_background": "light"
          }
        }
      ]
    },
    {
      "cell_type": "code",
      "metadata": {
        "id": "hwmwERp3NHaK",
        "colab": {
          "base_uri": "https://localhost:8080/",
          "height": 498
        },
        "outputId": "03c20f3a-3544-4795-aa7a-db0256adaa62"
      },
      "source": [
        "# Graphs views\n",
        "plt.figure(figsize=(12, 8))\n",
        "\n",
        "plt.scatter(df[y_kmeans==0].iloc[:,0], df[y_kmeans==0].iloc[:,1],  # individus Cluster 0\n",
        "            s=10, c='red', label='Cluster 0')\n",
        "\n",
        "plt.scatter(df[y_kmeans==1].iloc[:,0], df[y_kmeans==1].iloc[:,1],  # individus Cluster 1\n",
        "            s=10, c='blue', label='Cluster 1')\n",
        "\n",
        "plt.scatter(df[y_kmeans==2].iloc[:,0], df[y_kmeans==2].iloc[:,1],  # individus Cluster 2\n",
        "            s=10, c='green', label='Cluster 2')\n",
        "\n",
        "plt.scatter(kmeans.cluster_centers_[:,0], kmeans.cluster_centers_[:,1], c='black', s=100)   # coordonéés\n",
        "\n",
        "plt.legend()\n",
        "plt.title('Clusters des items en fonction des plages horaires');"
      ],
      "id": "hwmwERp3NHaK",
      "execution_count": null,
      "outputs": [
        {
          "output_type": "display_data",
          "data": {
            "image/png": "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\n",
            "text/plain": [
              "<Figure size 864x576 with 1 Axes>"
            ]
          },
          "metadata": {
            "needs_background": "light"
          }
        }
      ]
    },
    {
      "cell_type": "code",
      "metadata": {
        "id": "SmWjzlfUNHe-"
      },
      "source": [
        ""
      ],
      "id": "SmWjzlfUNHe-",
      "execution_count": null,
      "outputs": []
    },
    {
      "cell_type": "code",
      "metadata": {
        "id": "qGfCYuxFM_YT"
      },
      "source": [
        ""
      ],
      "id": "qGfCYuxFM_YT",
      "execution_count": null,
      "outputs": []
    },
    {
      "cell_type": "markdown",
      "metadata": {
        "id": "tdWSoARLLjcV"
      },
      "source": [
        "# 2. Clustering des visiteurs"
      ],
      "id": "tdWSoARLLjcV"
    },
    {
      "cell_type": "markdown",
      "metadata": {
        "id": "jxHkaB90r6Xd"
      },
      "source": [
        "### Ré importation de events (masqué)"
      ],
      "id": "jxHkaB90r6Xd"
    },
    {
      "cell_type": "code",
      "metadata": {
        "id": "-tXExw_KaH6v",
        "colab": {
          "base_uri": "https://localhost:8080/"
        },
        "outputId": "ed382432-9424-4d9c-bd43-ca96486dd099"
      },
      "source": [
        "# import data events only \n",
        "events = pd.read_csv('events.csv')\n",
        "events.head()"
      ],
      "id": "-tXExw_KaH6v",
      "execution_count": null,
      "outputs": [
        {
          "output_type": "execute_result",
          "data": {
            "text/html": [
              "<div>\n",
              "<style scoped>\n",
              "    .dataframe tbody tr th:only-of-type {\n",
              "        vertical-align: middle;\n",
              "    }\n",
              "\n",
              "    .dataframe tbody tr th {\n",
              "        vertical-align: top;\n",
              "    }\n",
              "\n",
              "    .dataframe thead th {\n",
              "        text-align: right;\n",
              "    }\n",
              "</style>\n",
              "<table border=\"1\" class=\"dataframe\">\n",
              "  <thead>\n",
              "    <tr style=\"text-align: right;\">\n",
              "      <th></th>\n",
              "      <th>timestamp</th>\n",
              "      <th>visitorid</th>\n",
              "      <th>event</th>\n",
              "      <th>itemid</th>\n",
              "      <th>transactionid</th>\n",
              "    </tr>\n",
              "  </thead>\n",
              "  <tbody>\n",
              "    <tr>\n",
              "      <th>0</th>\n",
              "      <td>1433221332117</td>\n",
              "      <td>257597</td>\n",
              "      <td>view</td>\n",
              "      <td>355908</td>\n",
              "      <td>NaN</td>\n",
              "    </tr>\n",
              "    <tr>\n",
              "      <th>1</th>\n",
              "      <td>1433224214164</td>\n",
              "      <td>992329</td>\n",
              "      <td>view</td>\n",
              "      <td>248676</td>\n",
              "      <td>NaN</td>\n",
              "    </tr>\n",
              "    <tr>\n",
              "      <th>2</th>\n",
              "      <td>1433221999827</td>\n",
              "      <td>111016</td>\n",
              "      <td>view</td>\n",
              "      <td>318965</td>\n",
              "      <td>NaN</td>\n",
              "    </tr>\n",
              "    <tr>\n",
              "      <th>3</th>\n",
              "      <td>1433221955914</td>\n",
              "      <td>483717</td>\n",
              "      <td>view</td>\n",
              "      <td>253185</td>\n",
              "      <td>NaN</td>\n",
              "    </tr>\n",
              "    <tr>\n",
              "      <th>4</th>\n",
              "      <td>1433221337106</td>\n",
              "      <td>951259</td>\n",
              "      <td>view</td>\n",
              "      <td>367447</td>\n",
              "      <td>NaN</td>\n",
              "    </tr>\n",
              "  </tbody>\n",
              "</table>\n",
              "</div>"
            ],
            "text/plain": [
              "       timestamp  visitorid event  itemid  transactionid\n",
              "0  1433221332117     257597  view  355908            NaN\n",
              "1  1433224214164     992329  view  248676            NaN\n",
              "2  1433221999827     111016  view  318965            NaN\n",
              "3  1433221955914     483717  view  253185            NaN\n",
              "4  1433221337106     951259  view  367447            NaN"
            ]
          },
          "metadata": {},
          "execution_count": 17
        }
      ]
    },
    {
      "cell_type": "code",
      "metadata": {
        "id": "ozsCdWhlrtA_"
      },
      "source": [
        "# on refait la transfo de la date \n",
        "events['date'] = pd.to_datetime(events['timestamp'],unit='ms')\n",
        "events['year']=pd.to_datetime(events['date']).dt.year\n",
        "events['month']=pd.to_datetime(events['date']).dt.month\n",
        "events['day']=pd.to_datetime(events['date']).dt.day\n",
        "events['time']=pd.to_datetime(events['date']).dt.time"
      ],
      "id": "ozsCdWhlrtA_",
      "execution_count": null,
      "outputs": []
    },
    {
      "cell_type": "markdown",
      "metadata": {
        "id": "Oo3rvBSDsBU_"
      },
      "source": [
        "### Modélisation K-Means"
      ],
      "id": "Oo3rvBSDsBU_"
    },
    {
      "cell_type": "code",
      "metadata": {
        "colab": {
          "base_uri": "https://localhost:8080/",
          "height": 206
        },
        "id": "ZdsYZkzCrh9N",
        "outputId": "d1a56039-fdb2-40cb-aadf-6e22b0020230"
      },
      "source": [
        "# On garde uniquement les colonnes qui nous intéressent pour le clustering (visitor / item / type d'event)\n",
        "df_e = events.drop(['timestamp', 'transactionid', 'date', 'year', 'month', 'day', 'time'], axis=1)\n",
        "df_e.head()"
      ],
      "id": "ZdsYZkzCrh9N",
      "execution_count": null,
      "outputs": [
        {
          "output_type": "execute_result",
          "data": {
            "text/html": [
              "<div>\n",
              "<style scoped>\n",
              "    .dataframe tbody tr th:only-of-type {\n",
              "        vertical-align: middle;\n",
              "    }\n",
              "\n",
              "    .dataframe tbody tr th {\n",
              "        vertical-align: top;\n",
              "    }\n",
              "\n",
              "    .dataframe thead th {\n",
              "        text-align: right;\n",
              "    }\n",
              "</style>\n",
              "<table border=\"1\" class=\"dataframe\">\n",
              "  <thead>\n",
              "    <tr style=\"text-align: right;\">\n",
              "      <th></th>\n",
              "      <th>visitorid</th>\n",
              "      <th>event</th>\n",
              "      <th>itemid</th>\n",
              "    </tr>\n",
              "  </thead>\n",
              "  <tbody>\n",
              "    <tr>\n",
              "      <th>0</th>\n",
              "      <td>257597</td>\n",
              "      <td>view</td>\n",
              "      <td>355908</td>\n",
              "    </tr>\n",
              "    <tr>\n",
              "      <th>1</th>\n",
              "      <td>992329</td>\n",
              "      <td>view</td>\n",
              "      <td>248676</td>\n",
              "    </tr>\n",
              "    <tr>\n",
              "      <th>2</th>\n",
              "      <td>111016</td>\n",
              "      <td>view</td>\n",
              "      <td>318965</td>\n",
              "    </tr>\n",
              "    <tr>\n",
              "      <th>3</th>\n",
              "      <td>483717</td>\n",
              "      <td>view</td>\n",
              "      <td>253185</td>\n",
              "    </tr>\n",
              "    <tr>\n",
              "      <th>4</th>\n",
              "      <td>951259</td>\n",
              "      <td>view</td>\n",
              "      <td>367447</td>\n",
              "    </tr>\n",
              "  </tbody>\n",
              "</table>\n",
              "</div>"
            ],
            "text/plain": [
              "   visitorid event  itemid\n",
              "0     257597  view  355908\n",
              "1     992329  view  248676\n",
              "2     111016  view  318965\n",
              "3     483717  view  253185\n",
              "4     951259  view  367447"
            ]
          },
          "metadata": {},
          "execution_count": 19
        }
      ]
    },
    {
      "cell_type": "code",
      "metadata": {
        "id": "Fxxo0vlUGX85"
      },
      "source": [
        "# Dichotomisation de la variable catégorielle event afin d'avoir 0 ou 1 pour chaque type d'event\n",
        "df_e = df_e.join(pd.get_dummies(df_e['event'], prefix='event'))"
      ],
      "id": "Fxxo0vlUGX85",
      "execution_count": null,
      "outputs": []
    },
    {
      "cell_type": "code",
      "metadata": {
        "id": "LYbc7_tlri3U",
        "colab": {
          "base_uri": "https://localhost:8080/",
          "height": 237
        },
        "outputId": "df171652-89bf-4f80-f287-8047ecb0bd2b"
      },
      "source": [
        "# On groupe par visitorid avec la somme de tous les event (prend quelques minutes)\n",
        "df_visitor = df_e.groupby('visitorid').agg({'event_view':'sum',\n",
        "                                            'event_addtocart':'sum',\n",
        "                                            'event_transaction':'sum'})\n",
        "df_visitor.head()"
      ],
      "id": "LYbc7_tlri3U",
      "execution_count": null,
      "outputs": [
        {
          "output_type": "execute_result",
          "data": {
            "text/html": [
              "<div>\n",
              "<style scoped>\n",
              "    .dataframe tbody tr th:only-of-type {\n",
              "        vertical-align: middle;\n",
              "    }\n",
              "\n",
              "    .dataframe tbody tr th {\n",
              "        vertical-align: top;\n",
              "    }\n",
              "\n",
              "    .dataframe thead th {\n",
              "        text-align: right;\n",
              "    }\n",
              "</style>\n",
              "<table border=\"1\" class=\"dataframe\">\n",
              "  <thead>\n",
              "    <tr style=\"text-align: right;\">\n",
              "      <th></th>\n",
              "      <th>event_view</th>\n",
              "      <th>event_addtocart</th>\n",
              "      <th>event_transaction</th>\n",
              "    </tr>\n",
              "    <tr>\n",
              "      <th>visitorid</th>\n",
              "      <th></th>\n",
              "      <th></th>\n",
              "      <th></th>\n",
              "    </tr>\n",
              "  </thead>\n",
              "  <tbody>\n",
              "    <tr>\n",
              "      <th>0</th>\n",
              "      <td>3.0</td>\n",
              "      <td>0.0</td>\n",
              "      <td>0.0</td>\n",
              "    </tr>\n",
              "    <tr>\n",
              "      <th>1</th>\n",
              "      <td>1.0</td>\n",
              "      <td>0.0</td>\n",
              "      <td>0.0</td>\n",
              "    </tr>\n",
              "    <tr>\n",
              "      <th>2</th>\n",
              "      <td>8.0</td>\n",
              "      <td>0.0</td>\n",
              "      <td>0.0</td>\n",
              "    </tr>\n",
              "    <tr>\n",
              "      <th>3</th>\n",
              "      <td>1.0</td>\n",
              "      <td>0.0</td>\n",
              "      <td>0.0</td>\n",
              "    </tr>\n",
              "    <tr>\n",
              "      <th>4</th>\n",
              "      <td>1.0</td>\n",
              "      <td>0.0</td>\n",
              "      <td>0.0</td>\n",
              "    </tr>\n",
              "  </tbody>\n",
              "</table>\n",
              "</div>"
            ],
            "text/plain": [
              "           event_view  event_addtocart  event_transaction\n",
              "visitorid                                                \n",
              "0                 3.0              0.0                0.0\n",
              "1                 1.0              0.0                0.0\n",
              "2                 8.0              0.0                0.0\n",
              "3                 1.0              0.0                0.0\n",
              "4                 1.0              0.0                0.0"
            ]
          },
          "metadata": {},
          "execution_count": 22
        }
      ]
    },
    {
      "cell_type": "code",
      "metadata": {
        "colab": {
          "base_uri": "https://localhost:8080/",
          "height": 237
        },
        "id": "cME1VHo5HmZH",
        "outputId": "04648408-249a-4f88-e30c-eae5c08f6a55"
      },
      "source": [
        "# On garde le df_visitor et on utilise df pour la modélisation afin de repartir d'ici si nécessaire\n",
        "df = df_visitor.drop('event_addtocart', axis=1)\n",
        "df.head()"
      ],
      "id": "cME1VHo5HmZH",
      "execution_count": null,
      "outputs": [
        {
          "output_type": "execute_result",
          "data": {
            "text/html": [
              "<div>\n",
              "<style scoped>\n",
              "    .dataframe tbody tr th:only-of-type {\n",
              "        vertical-align: middle;\n",
              "    }\n",
              "\n",
              "    .dataframe tbody tr th {\n",
              "        vertical-align: top;\n",
              "    }\n",
              "\n",
              "    .dataframe thead th {\n",
              "        text-align: right;\n",
              "    }\n",
              "</style>\n",
              "<table border=\"1\" class=\"dataframe\">\n",
              "  <thead>\n",
              "    <tr style=\"text-align: right;\">\n",
              "      <th></th>\n",
              "      <th>event_view</th>\n",
              "      <th>event_transaction</th>\n",
              "    </tr>\n",
              "    <tr>\n",
              "      <th>visitorid</th>\n",
              "      <th></th>\n",
              "      <th></th>\n",
              "    </tr>\n",
              "  </thead>\n",
              "  <tbody>\n",
              "    <tr>\n",
              "      <th>0</th>\n",
              "      <td>3.0</td>\n",
              "      <td>0.0</td>\n",
              "    </tr>\n",
              "    <tr>\n",
              "      <th>1</th>\n",
              "      <td>1.0</td>\n",
              "      <td>0.0</td>\n",
              "    </tr>\n",
              "    <tr>\n",
              "      <th>2</th>\n",
              "      <td>8.0</td>\n",
              "      <td>0.0</td>\n",
              "    </tr>\n",
              "    <tr>\n",
              "      <th>3</th>\n",
              "      <td>1.0</td>\n",
              "      <td>0.0</td>\n",
              "    </tr>\n",
              "    <tr>\n",
              "      <th>4</th>\n",
              "      <td>1.0</td>\n",
              "      <td>0.0</td>\n",
              "    </tr>\n",
              "  </tbody>\n",
              "</table>\n",
              "</div>"
            ],
            "text/plain": [
              "           event_view  event_transaction\n",
              "visitorid                               \n",
              "0                 3.0                0.0\n",
              "1                 1.0                0.0\n",
              "2                 8.0                0.0\n",
              "3                 1.0                0.0\n",
              "4                 1.0                0.0"
            ]
          },
          "metadata": {},
          "execution_count": 23
        }
      ]
    },
    {
      "cell_type": "code",
      "metadata": {
        "id": "FAnuzReYHmgo"
      },
      "source": [
        "# Standardisation du df \n",
        "from sklearn.cluster import KMeans\n",
        "from sklearn.preprocessing import StandardScaler\n",
        "\n",
        "SC = StandardScaler()\n",
        "Z = SC.fit_transform(df)\n",
        "\n",
        "# Création du df_kmeans normalisé\n",
        "df_kmeans = pd.DataFrame(Z, columns=['Nombre de visites', 'Nombre de transactions'])"
      ],
      "id": "FAnuzReYHmgo",
      "execution_count": null,
      "outputs": []
    },
    {
      "cell_type": "code",
      "metadata": {
        "colab": {
          "base_uri": "https://localhost:8080/"
        },
        "id": "tyYA97LdHmrD",
        "outputId": "7444466c-c4c3-49a7-f973-bbe6faf855c3"
      },
      "source": [
        "# Modélisation avec 3 clusters\n",
        "kmeans = KMeans(n_clusters=3)\n",
        "kmeans.fit(df_kmeans)\n",
        "y_kmeans = kmeans.predict(df_kmeans)\n",
        "\n",
        "print(' Coordonnées cluster 0:', kmeans.cluster_centers_[0],'\\n',\n",
        "      'Coordonnées cluster 1:', kmeans.cluster_centers_[1], '\\n',\n",
        "      'Coordonnées cluster 2:', kmeans.cluster_centers_[2])"
      ],
      "id": "tyYA97LdHmrD",
      "execution_count": null,
      "outputs": [
        {
          "output_type": "stream",
          "name": "stdout",
          "text": [
            " Coordonnées cluster 0: [-0.00448458 -0.00400873] \n",
            " Coordonnées cluster 1: [99.69627799 80.71312541] \n",
            " Coordonnées cluster 2: [375.98290294 481.76804178]\n"
          ]
        }
      ]
    },
    {
      "cell_type": "code",
      "metadata": {
        "colab": {
          "base_uri": "https://localhost:8080/",
          "height": 275
        },
        "id": "mal0tiJlNyTk",
        "outputId": "5e4ac69b-327f-457c-8bb2-bd11c1723f7f"
      },
      "source": [
        "## Méthode du coude pour voir combien de clusters on choisit \n",
        "L = []\n",
        "\n",
        "for i in range(1,10):\n",
        "    kmeans = KMeans(n_clusters=i)\n",
        "    kmeans.fit(df_kmeans)\n",
        "    L.append(kmeans.inertia_) \n",
        "\n",
        "fig = plt.figure()\n",
        "ax = fig.add_subplot(111)    \n",
        "ax.plot(range(1, 10), L, c='red');"
      ],
      "id": "mal0tiJlNyTk",
      "execution_count": null,
      "outputs": [
        {
          "output_type": "display_data",
          "data": {
            "image/png": "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\n",
            "text/plain": [
              "<Figure size 432x288 with 1 Axes>"
            ]
          },
          "metadata": {
            "needs_background": "light"
          }
        }
      ]
    },
    {
      "cell_type": "markdown",
      "metadata": {
        "id": "7JE6_NizOO0l"
      },
      "source": [
        "Le choix entre n_clusters = 2 ou 3 est assez flou car la cassure sur le graphique semble similaire pour les 2 valeurs. Néanmoins, nous allons choisir de regrouper les inidividus en **3 clusters**, car 2 clusters nous semble peu au vu du nombre de visiteurs. "
      ],
      "id": "7JE6_NizOO0l"
    },
    {
      "cell_type": "code",
      "metadata": {
        "colab": {
          "base_uri": "https://localhost:8080/"
        },
        "id": "rShKiOmTHqpi",
        "outputId": "46e707f1-b905-4e5f-d6e9-0ffbc50ef7c5"
      },
      "source": [
        "from collections import Counter\n",
        "print(dict(Counter(kmeans.labels_)))"
      ],
      "id": "rShKiOmTHqpi",
      "execution_count": null,
      "outputs": [
        {
          "output_type": "stream",
          "name": "stdout",
          "text": [
            "{0: 1407525, 2: 52, 1: 3}\n"
          ]
        }
      ]
    },
    {
      "cell_type": "markdown",
      "metadata": {
        "id": "f7qyS1gCLm7g"
      },
      "source": [
        "Nous avons donc 3 clusters, avec les centroïdes représentés par les points noirs (ci-dessous), qui sont :\n",
        "- 1407525 visiteurs dans le premier cluster (rouge)\n",
        "- 52 visiteurs dans le deuxième cluster (vert)\n",
        "- et 3 dans le 3ème cluster (bleu)"
      ],
      "id": "f7qyS1gCLm7g"
    },
    {
      "cell_type": "code",
      "metadata": {
        "colab": {
          "base_uri": "https://localhost:8080/",
          "height": 513
        },
        "id": "Pt8EZcEvJkTw",
        "outputId": "1fa21f70-c6c7-4a20-db0f-926c9894fabc"
      },
      "source": [
        "# Graphique des clusters pour n_clusters=3\n",
        "\n",
        "plt.figure(figsize=(12, 8))\n",
        "\n",
        "plt.scatter(df_kmeans[y_kmeans==0].iloc[:,0], df_kmeans[y_kmeans==0].iloc[:,1],  # individus Cluster 0\n",
        "            s=10, c='red', label='Cluster 0')\n",
        "\n",
        "plt.scatter(df_kmeans[y_kmeans==1].iloc[:,0], df_kmeans[y_kmeans==1].iloc[:,1],  # individus Cluster 1\n",
        "            s=10, c='blue', label='Cluster 1')\n",
        "\n",
        "plt.scatter(df_kmeans[y_kmeans==2].iloc[:,0], df_kmeans[y_kmeans==2].iloc[:,1],  # individus Cluster 2\n",
        "            s=10, c='green', label='Cluster 2')\n",
        "\n",
        "plt.scatter(kmeans.cluster_centers_[:,0], kmeans.cluster_centers_[:,1], c='black', s=100)   # coordonéés\n",
        "\n",
        "plt.xlabel('Visites') \n",
        "plt.ylabel('Transactions')\n",
        "plt.legend()\n",
        "plt.title('Clusters des visiteurs et leurs centroïdes');"
      ],
      "id": "Pt8EZcEvJkTw",
      "execution_count": null,
      "outputs": [
        {
          "output_type": "display_data",
          "data": {
            "image/png": "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\n",
            "text/plain": [
              "<Figure size 864x576 with 1 Axes>"
            ]
          },
          "metadata": {
            "needs_background": "light"
          }
        }
      ]
    },
    {
      "cell_type": "code",
      "metadata": {
        "colab": {
          "base_uri": "https://localhost:8080/",
          "height": 513
        },
        "id": "xamgHP0PMNM8",
        "outputId": "e50b3876-0d06-4877-8243-07bf5c572e16"
      },
      "source": [
        "# Graphique avec le df non standardisé pour avoir les bons ordres de grandeur \n",
        "plt.figure(figsize=(12, 8))\n",
        "\n",
        "plt.scatter(df[y_kmeans==0].iloc[:,0], df[y_kmeans==0].iloc[:,1],  # individus Cluster 0\n",
        "            s=10, c='red', alpha = 0.5, label='Cluster 0')\n",
        "\n",
        "plt.scatter(df[y_kmeans==1].iloc[:,0], df[y_kmeans==1].iloc[:,1],  # individus Cluster 1\n",
        "            s=10, c='blue', label='Cluster 1')\n",
        "\n",
        "plt.scatter(df[y_kmeans==2].iloc[:,0], df[y_kmeans==2].iloc[:,1],  # individus Cluster 2\n",
        "            s=10, c='green', label='Cluster 2')\n",
        "\n",
        "plt.xlabel('Nombre de visites') \n",
        "plt.ylabel('Nombre de transactions')\n",
        "plt.legend()\n",
        "plt.title('Clustering des visiteurs');"
      ],
      "id": "xamgHP0PMNM8",
      "execution_count": null,
      "outputs": [
        {
          "output_type": "display_data",
          "data": {
            "image/png": "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\n",
            "text/plain": [
              "<Figure size 864x576 with 1 Axes>"
            ]
          },
          "metadata": {
            "needs_background": "light"
          }
        }
      ]
    },
    {
      "cell_type": "markdown",
      "metadata": {
        "id": "qUTG3fReKALF"
      },
      "source": [
        "Sur le graphique ci-dessus, on voit que la standardisation des données nous a permis de créer des clusters cohérents:\n",
        "- le premier regroupe les visiteurs ayant fait environ moins de 900 visites, et moins de 800 transactions\n",
        "- le deuxième cluster regroupe les clients ayant fait moins de 2500 visites et moins de 2000 transactions\n",
        "- le dernier regroupe les Top clients qui font beaucoup de visites et beaucoup de transactions, à savoir, plus de 2500 visites et plus de 2500 transactions\n",
        "\n",
        "Nous avons ici 3 clusters créés en fonction de ces deux variables. Les limites de ce modèle seraient de ne pas différencier les clients par exemple ayant fait beaucoup de visites mais très peu de commandes.\n",
        "\n",
        "Nous pouvons essayer un clustering en 5 clusters afin de voir comment le modèle peut nous servir à segmenter encore un peu les visiteurs. "
      ],
      "id": "qUTG3fReKALF"
    },
    {
      "cell_type": "code",
      "metadata": {
        "colab": {
          "base_uri": "https://localhost:8080/"
        },
        "id": "6Q-iyZ7oOK_x",
        "outputId": "1e3df1c9-09ed-40cc-8f1e-2605df39c50a"
      },
      "source": [
        "# Modélisation avec 5 clusters pour plus de segmentation\n",
        "\n",
        "kmeans = KMeans(n_clusters=5)\n",
        "kmeans.fit(df_kmeans)\n",
        "y_kmeans = kmeans.predict(df_kmeans)\n",
        "\n",
        "print(' Coordonnées cluster 0:', kmeans.cluster_centers_[0],'\\n',\n",
        "      'Coordonnées cluster 1:', kmeans.cluster_centers_[1], '\\n',\n",
        "      'Coordonnées cluster 2:', kmeans.cluster_centers_[2], '\\n',\n",
        "      'Coordonnées cluster 3:', kmeans.cluster_centers_[3],'\\n',\n",
        "      'Coordonnées cluster 4:', kmeans.cluster_centers_[4], '\\n',)"
      ],
      "id": "6Q-iyZ7oOK_x",
      "execution_count": null,
      "outputs": [
        {
          "output_type": "stream",
          "name": "stdout",
          "text": [
            " Coordonnées cluster 0: [-0.00649741 -0.00484735] \n",
            " Coordonnées cluster 1: [269.39148152 384.32110192] \n",
            " Coordonnées cluster 2: [50.78044203 24.47131998] \n",
            " Coordonnées cluster 3: [133.29191237 143.90526174] \n",
            " Coordonnées cluster 4: [589.16574578 676.6619215 ] \n",
            "\n"
          ]
        }
      ]
    },
    {
      "cell_type": "code",
      "metadata": {
        "colab": {
          "base_uri": "https://localhost:8080/",
          "height": 513
        },
        "id": "tpYfArU_P9ol",
        "outputId": "67e83c65-ea08-40dd-ab9d-4057687ac2b6"
      },
      "source": [
        "# Graphique clustering pour n_clusters=5\n",
        "\n",
        "plt.figure(figsize=(12, 8))\n",
        "\n",
        "plt.scatter(df_kmeans[y_kmeans==0].iloc[:,0], df_kmeans[y_kmeans==0].iloc[:,1],  # individus Cluster 0\n",
        "            s=10, c='green', label='Cluster 0')\n",
        "\n",
        "plt.scatter(df_kmeans[y_kmeans==1].iloc[:,0], df_kmeans[y_kmeans==1].iloc[:,1],  # individus Cluster 1\n",
        "            s=10, c='red', label='Cluster 1')\n",
        "\n",
        "plt.scatter(df_kmeans[y_kmeans==2].iloc[:,0], df_kmeans[y_kmeans==2].iloc[:,1],  # individus Cluster 2\n",
        "            s=10, c='blue', label='Cluster 2')\n",
        "\n",
        "plt.scatter(df_kmeans[y_kmeans==3].iloc[:,0], df_kmeans[y_kmeans==3].iloc[:,1],  # individus Cluster 3\n",
        "            s=10, c='orange', label='Cluster 3')\n",
        "\n",
        "plt.scatter(df_kmeans[y_kmeans==4].iloc[:,0], df_kmeans[y_kmeans==4].iloc[:,1],  # individus Cluster 4\n",
        "            s=10, c='purple', label='Cluster 4')\n",
        "\n",
        "plt.scatter(kmeans.cluster_centers_[:,0], kmeans.cluster_centers_[:,1], c='black', s=100)   # centroïdes\n",
        "\n",
        "plt.xlabel('Visites') \n",
        "plt.ylabel('Transactions')\n",
        "plt.legend()\n",
        "plt.title('Clustering des visiteurs');"
      ],
      "id": "tpYfArU_P9ol",
      "execution_count": null,
      "outputs": [
        {
          "output_type": "display_data",
          "data": {
            "image/png": "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\n",
            "text/plain": [
              "<Figure size 864x576 with 1 Axes>"
            ]
          },
          "metadata": {
            "needs_background": "light"
          }
        }
      ]
    },
    {
      "cell_type": "markdown",
      "metadata": {
        "id": "YYphrzoGQRM8"
      },
      "source": [
        "**Conclusion du clustering visiteurs**\n",
        "\n",
        "Ajouter des clusters n'est pas vraiment utile ici puisque le modèle sépare les clusters ayant déjà très peu de visiteurs et non pas la \"masse\" de visiteurs de plus d'un millions de clients. Nous garderons le clustering à 3 clusters.\n",
        "\n",
        "On peut penser également à ensuite, diviser ces clusters en deux afin de garder dans chaque classe, ceux qui ont peu de visites (que l'on pourrait catégoriser comme acheteur rapides/compulsifs/réguliers), et les visiteurs ayant beaucoup de visites pour un même nombre d'achats (nouveaux clients, plus longs à la prise de décision etc)."
      ],
      "id": "YYphrzoGQRM8"
    },
    {
      "cell_type": "markdown",
      "metadata": {
        "id": "NfQhU5SoB44V"
      },
      "source": [
        "# 3. Modèle de prédiction d'achat : feature engineering"
      ],
      "id": "NfQhU5SoB44V"
    },
    {
      "cell_type": "code",
      "metadata": {
        "id": "wWLquEruB8h8"
      },
      "source": [
        "events = pd.read_csv('events.csv')\n",
        "\n",
        "import datetime\n",
        "times =[]\n",
        "for i in events['timestamp']:\n",
        "    times.append(datetime.datetime.fromtimestamp(i//1000.0)) \n",
        "events['timestamp'] = times\n",
        "\n",
        "# Impossible d attribuer timestamp à une colonne lorsqu'il est sous format yyyy/mm/dd h/m/s\n",
        "# On convertit les timestamp en seconde avec T0=premier timestamp du tableau\n",
        "events['time_t0'] = (events['timestamp'] - events['timestamp'].min())  / np.timedelta64(1,'s')\n",
        "\n",
        "# Création de la colonne visitorid_itemid\n",
        "events['visitorid']=events['visitorid'].astype(str)\n",
        "events['itemid']=events['itemid'].astype(str)\n",
        "events['visitorid_itemid']=events['visitorid']+\" ; \"+events['itemid']\n",
        "\n",
        "# Tri par date (pas nécessaire)\n",
        "events = events.sort_values('timestamp')\n",
        "\n",
        "# Création des features_date pour récupérer les dates pour chaque type d'event\n",
        "events['view_date'] = np.where(events['event']=='view', events['time_t0'], np.nan)\n",
        "events['add_date'] = np.where(events['event']=='addtocart', events['time_t0'], np.nan)\n",
        "\n",
        "# Création d'un dataframe qui pour chaque couple visitorid_itemid indique la première date de vue / mise au panier / achat\n",
        "df_view = (events.groupby(['visitorid_itemid'])\n",
        "                    .agg({'view_date':'min'})\n",
        "                    .rename(columns={'min':'view#1'})).reset_index()\n",
        "\n",
        "df_add = (events.groupby(['visitorid_itemid'])\n",
        "                    .agg({'add_date':'min'})\n",
        "                    .rename(columns={'min':'add#1'})).reset_index()\n",
        "\n",
        "df_date=df_view.merge(right = df_add, on = 'visitorid_itemid', how = 'outer')\n",
        "\n",
        "# Création d'une colonne qui calcule le temps entre la première vue & l'achat du produit en secondes\n",
        "df_date['delta_view_add']=(df_date['add_date']-df_date['view_date'])\n",
        "\n",
        "# On sépare item & visiteur\n",
        "df_date[['visitorid','itemid']] = df_date['visitorid_itemid'].str.split(' ; ', expand=True)\n",
        "\n",
        "# On remet dans l'ordre, en supprimant la colonne visitor_item \n",
        "df_date = df_date[['visitorid', 'itemid', 'view_date', 'add_date', 'delta_view_add']]\n",
        "\n"
      ],
      "id": "wWLquEruB8h8",
      "execution_count": null,
      "outputs": []
    },
    {
      "cell_type": "code",
      "metadata": {
        "id": "TfzjQzIXCIQY"
      },
      "source": [
        "# On construit le tableau df_visitor qui montrera les deltas de temps moyens passés par chaque visiteurs\n",
        "df_view_add = (df_date.groupby(['visitorid']).agg({'delta_view_add':'mean'}))\n",
        "\n",
        "# On va supprimer les valeurs négatives pour les deltas (actions qui ont eu lieu par la suite)\n",
        "view_add_negatif=df_view_add[df_view_add['delta_view_add']<0].index\n",
        "df_view_add=df_view_add.drop(view_add_negatif)\n",
        "\n",
        "# On supprime les lignes pour lesquels tous les delta sont manquants\n",
        "df_view_add=df_view_add.dropna(axis = 0, how = 'all', subset = ['delta_view_add'])\n"
      ],
      "id": "TfzjQzIXCIQY",
      "execution_count": null,
      "outputs": []
    },
    {
      "cell_type": "code",
      "metadata": {
        "id": "HNDcnfgFCJSi"
      },
      "source": [
        "df_view_add=df_view_add.reset_index()"
      ],
      "id": "HNDcnfgFCJSi",
      "execution_count": null,
      "outputs": []
    },
    {
      "cell_type": "code",
      "metadata": {
        "colab": {
          "base_uri": "https://localhost:8080/",
          "height": 424
        },
        "id": "a-Mbgp85dNL8",
        "outputId": "05dfa6f2-b160-420a-96ac-3901f840771d"
      },
      "source": [
        "df_view_add"
      ],
      "id": "a-Mbgp85dNL8",
      "execution_count": null,
      "outputs": [
        {
          "output_type": "execute_result",
          "data": {
            "text/html": [
              "<div>\n",
              "<style scoped>\n",
              "    .dataframe tbody tr th:only-of-type {\n",
              "        vertical-align: middle;\n",
              "    }\n",
              "\n",
              "    .dataframe tbody tr th {\n",
              "        vertical-align: top;\n",
              "    }\n",
              "\n",
              "    .dataframe thead th {\n",
              "        text-align: right;\n",
              "    }\n",
              "</style>\n",
              "<table border=\"1\" class=\"dataframe\">\n",
              "  <thead>\n",
              "    <tr style=\"text-align: right;\">\n",
              "      <th></th>\n",
              "      <th>visitorid</th>\n",
              "      <th>delta_view_add</th>\n",
              "    </tr>\n",
              "  </thead>\n",
              "  <tbody>\n",
              "    <tr>\n",
              "      <th>0</th>\n",
              "      <td>1000057</td>\n",
              "      <td>2418.0</td>\n",
              "    </tr>\n",
              "    <tr>\n",
              "      <th>1</th>\n",
              "      <td>1000093</td>\n",
              "      <td>135.0</td>\n",
              "    </tr>\n",
              "    <tr>\n",
              "      <th>2</th>\n",
              "      <td>1000103</td>\n",
              "      <td>71.0</td>\n",
              "    </tr>\n",
              "    <tr>\n",
              "      <th>3</th>\n",
              "      <td>100012</td>\n",
              "      <td>5.0</td>\n",
              "    </tr>\n",
              "    <tr>\n",
              "      <th>4</th>\n",
              "      <td>1000169</td>\n",
              "      <td>29.0</td>\n",
              "    </tr>\n",
              "    <tr>\n",
              "      <th>...</th>\n",
              "      <td>...</td>\n",
              "      <td>...</td>\n",
              "    </tr>\n",
              "    <tr>\n",
              "      <th>29615</th>\n",
              "      <td>999895</td>\n",
              "      <td>92.0</td>\n",
              "    </tr>\n",
              "    <tr>\n",
              "      <th>29616</th>\n",
              "      <td>999926</td>\n",
              "      <td>792.0</td>\n",
              "    </tr>\n",
              "    <tr>\n",
              "      <th>29617</th>\n",
              "      <td>999959</td>\n",
              "      <td>231.0</td>\n",
              "    </tr>\n",
              "    <tr>\n",
              "      <th>29618</th>\n",
              "      <td>999986</td>\n",
              "      <td>243.0</td>\n",
              "    </tr>\n",
              "    <tr>\n",
              "      <th>29619</th>\n",
              "      <td>999989</td>\n",
              "      <td>26.0</td>\n",
              "    </tr>\n",
              "  </tbody>\n",
              "</table>\n",
              "<p>29620 rows × 2 columns</p>\n",
              "</div>"
            ],
            "text/plain": [
              "      visitorid  delta_view_add\n",
              "0       1000057          2418.0\n",
              "1       1000093           135.0\n",
              "2       1000103            71.0\n",
              "3        100012             5.0\n",
              "4       1000169            29.0\n",
              "...         ...             ...\n",
              "29615    999895            92.0\n",
              "29616    999926           792.0\n",
              "29617    999959           231.0\n",
              "29618    999986           243.0\n",
              "29619    999989            26.0\n",
              "\n",
              "[29620 rows x 2 columns]"
            ]
          },
          "metadata": {},
          "execution_count": 8
        }
      ]
    },
    {
      "cell_type": "markdown",
      "metadata": {
        "id": "JX4V2DzWS_h0"
      },
      "source": [
        "L'exécution de la cellule suivante prend environ 30-50 minutes "
      ],
      "id": "JX4V2DzWS_h0"
    },
    {
      "cell_type": "code",
      "metadata": {
        "id": "a2Pz4D_rCKHj"
      },
      "source": [
        "# Créer une fonction pour compter le nb de visites / items vus / achats pour un visitorID\n",
        "def décompte(visiteurs):\n",
        "    \n",
        "    df_array = []\n",
        "    for index in visiteurs:\n",
        "\n",
        "        # On crée un DF temporaire avec n° ligne = visiteurs\n",
        "        df_temporaire = events[events.visitorid == index]\n",
        "\n",
        "        temp = []\n",
        "        # On ajoute à chaque fois l'ID visitor\n",
        "        temp.append(index)\n",
        "\n",
        "        # Décompte produits uniques vus\n",
        "        temp.append(df_temporaire[df_temporaire.event == 'view'].itemid.unique().size)\n",
        "\n",
        "        # Décompte de vues/visites (tout objet confondu)\n",
        "        temp.append(df_temporaire[df_temporaire.event == 'view'].event.count())\n",
        "\n",
        "        # Décompte nb achats\n",
        "        nombre_item_achetés = df_temporaire[df_temporaire.event == 'transaction'].event.count()\n",
        "        temp.append(nombre_item_achetés)\n",
        "\n",
        "        # Ajout d'un 0/1 si achat ou pas achat\n",
        "        if(nombre_item_achetés == 0):\n",
        "            temp.append(0)\n",
        "        else:\n",
        "            temp.append(1)\n",
        "\n",
        "        df_array.append(temp)\n",
        "    \n",
        "    return pd.DataFrame(df_array, columns=['visitorid', 'nb_items_vus', 'nb_vues', 'nb_achats', 'a acheté'])\n",
        "\n",
        "# Liste de tous les visiteurs du tableau df_view_add\n",
        "visiteurs = df_view_add.visitorid.unique()\n",
        "# On prend cette liste visiteurs et on compte leur nombres de vues, d'items vus, d'achats et s'ils ont acheté\n",
        "df_décompte = décompte(visiteurs)\n"
      ],
      "id": "a2Pz4D_rCKHj",
      "execution_count": null,
      "outputs": []
    },
    {
      "cell_type": "code",
      "metadata": {
        "id": "TuGXzCLPCM7N"
      },
      "source": [
        "df_view_add['visitorid']=df_view_add['visitorid'].astype('int64')\n",
        "df_décompte['visitorid']=df_décompte['visitorid'].astype('int64')"
      ],
      "id": "TuGXzCLPCM7N",
      "execution_count": null,
      "outputs": []
    },
    {
      "cell_type": "code",
      "metadata": {
        "id": "Zafw1siSCSfC"
      },
      "source": [
        "# On fusionne les tableaux df_décompte & df_visitor pour récupérer toutes les features qui nous intéressent\n",
        "df_visites=df_view_add.merge(right = df_décompte, on = 'visitorid', how = 'inner')\n",
        "\n",
        "# On supprime les doublons (certaines lignes avec le même visitorId & les mêmes infos ont été doublées lors du merge)\n",
        "df_visites=df_visites.drop_duplicates(subset = ['visitorid'], keep = 'first')\n",
        "\n",
        "# Pour pouvoir utiliser un modèle sur nos données, on va devoir supprimer les données manquantes qui sont dans delta_view_add (quand le visiteur n'a pas visité le produit avant de l'ajouter à son panier)\n",
        "df_visites=df_visites.dropna(axis = 0, how = 'all', subset = ['delta_view_add'])\n",
        "df_visites"
      ],
      "id": "Zafw1siSCSfC",
      "execution_count": null,
      "outputs": []
    },
    {
      "cell_type": "markdown",
      "metadata": {
        "id": "P0BFb_q1n6C6"
      },
      "source": [
        "![image.png](data:image/png;base64,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)"
      ],
      "id": "P0BFb_q1n6C6"
    },
    {
      "cell_type": "markdown",
      "metadata": {
        "id": "EU7XxFQoCjO_"
      },
      "source": [
        "# 3. Modèle de prédiction d'achat : Régression Logistique"
      ],
      "id": "EU7XxFQoCjO_"
    },
    {
      "cell_type": "code",
      "metadata": {
        "id": "dFE3NenQCnW3"
      },
      "source": [
        "# On sépare variables descriptives (nb visites & nb items vus & delta view_add) & la target (l'acte d achat)\n",
        "from sklearn import preprocessing\n",
        "from sklearn.model_selection import train_test_split, cross_val_score, cross_validate\n",
        "from sklearn.preprocessing import StandardScaler\n",
        "from sklearn.linear_model import LogisticRegression\n",
        "from sklearn.metrics import accuracy_score\n",
        "\n",
        "\n",
        "X = df_visites.drop(['visitorid', 'nb_achats', 'a acheté'], axis = 'columns')\n",
        "y = df_visites['a acheté']\n",
        "\n",
        "X_train, X_test, y_train, y_test = train_test_split(X, y, random_state=2021, train_size = 0.7)\n",
        "\n",
        "scaler = StandardScaler()\n",
        "X_train = scaler.fit_transform(X_train)\n",
        "X_test = scaler.transform(X_test)\n",
        "\n",
        "# Vu la projection, on va essayer d'abord une LR\n",
        "reg = LogisticRegression()\n",
        "reg.fit(X_train, y_train)\n",
        "\n",
        "# Afficher taux de bonnes prédictions sur du modèle sur l'ensemble d'entraînement et l'ensemble test\n",
        "train_acc = accuracy_score(y_true=y_train, y_pred=reg.predict(X_train))\n",
        "test_acc = accuracy_score(y_true=y_test, y_pred=reg.predict(X_test))\n",
        "\n",
        "print(train_acc)\n",
        "print(test_acc)"
      ],
      "id": "dFE3NenQCnW3",
      "execution_count": null,
      "outputs": []
    },
    {
      "cell_type": "markdown",
      "metadata": {
        "id": "iiWRiETbGBCj"
      },
      "source": [
        "Accuracy scores : 0,68 et 0,69"
      ],
      "id": "iiWRiETbGBCj"
    },
    {
      "cell_type": "markdown",
      "metadata": {
        "id": "Zrlbz0DyAfUU"
      },
      "source": [
        "Ayant un doute sur l'importance de la feature \"delta_view_add\" pour prédire l'achat (si la personne a ajouté un produit à son pannier, que cela soit lent ou rapide, sa décision est normalement quasi prise : elle devrait l'acheter), nous allons vérifier ça en deux temps: avec une partie feature selection (ci-dessous) puis en refaisant la RL en ne prenant en compte que les features nombre de visites & nombre de produits vus "
      ],
      "id": "Zrlbz0DyAfUU"
    },
    {
      "cell_type": "code",
      "metadata": {
        "id": "jsok1MwTATiV"
      },
      "source": [
        "from sklearn.feature_selection import SelectKBest,\n",
        "X_train = sel.transform(X_train)\n",
        "X_test = sel.transform(X_test)\n",
        "\n",
        "sel = SelectKBest(score_func = f_regression, k=2)\n",
        "sel.fit(X_train, y_train)\n",
        "mask = sel.get_support()\n",
        "plt.matshow(mask.reshape(1,-1), cmap = 'gray_r')\n",
        "plt.xlabel('Axe des features');"
      ],
      "id": "jsok1MwTATiV",
      "execution_count": null,
      "outputs": []
    },
    {
      "cell_type": "code",
      "metadata": {
        "id": "ytvatSV2AKsq"
      },
      "source": [
        "# On refait la même chose en excluant la variable delta view_add\n",
        "from sklearn import preprocessing\n",
        "from sklearn.model_selection import train_test_split, cross_val_score, cross_validate\n",
        "from sklearn.preprocessing import StandardScaler\n",
        "from sklearn.linear_model import LogisticRegression\n",
        "from sklearn.metrics import accuracy_score\n",
        "\n",
        "\n",
        "X = df_visites.drop(['visitorid', 'nb_achats', 'a acheté', 'delta_view_add'], axis = 'columns')\n",
        "y = df_visites['a acheté']\n",
        "\n",
        "X_train, X_test, y_train, y_test = train_test_split(X, y, random_state=2021, train_size = 0.7)\n",
        "\n",
        "scaler = StandardScaler()\n",
        "X_train = scaler.fit_transform(X_train)\n",
        "X_test = scaler.transform(X_test)\n",
        "\n",
        "# Vu la projection, on va essayer d'abord une LR\n",
        "reg = LogisticRegression()\n",
        "reg.fit(X_train, y_train)\n",
        "\n",
        "# Afficher taux de bonnes prédictions sur du modèle sur l'ensemble d'entraînement et l'ensemble test\n",
        "train_acc = accuracy_score(y_true=y_train, y_pred=reg.predict(X_train))\n",
        "test_acc = accuracy_score(y_true=y_test, y_pred=reg.predict(X_test))\n",
        "\n",
        "print(train_acc)\n",
        "print(test_acc)"
      ],
      "id": "ytvatSV2AKsq",
      "execution_count": null,
      "outputs": []
    },
    {
      "cell_type": "markdown",
      "metadata": {
        "id": "VhJ-gMUaBKVJ"
      },
      "source": [
        "L'accuracy score est identique"
      ],
      "id": "VhJ-gMUaBKVJ"
    },
    {
      "cell_type": "code",
      "metadata": {
        "id": "QRXJmM-GCtQ2"
      },
      "source": [
        "from sklearn.metrics import roc_curve\n",
        "from sklearn.metrics import roc_auc_score\n",
        "from matplotlib import pyplot\n",
        "\n",
        "# Courbe hasard (50%)\n",
        "fauxpositif, vraipositif, _ = roc_curve(y_test, [0 for _ in range(len(y_test))])\n",
        "# Courbe avec notre modèle\n",
        "fauxpositif2, vraipositif2, _ = roc_curve(y_test, reg.predict(X_test))\n",
        "pyplot.plot(fauxpositif, vraipositif, linestyle='--', label='Hasard')\n",
        "pyplot.plot(fauxpositif2, vraipositif2, marker='.', label='Modèle')\n",
        "pyplot.xlabel('Faux positif')\n",
        "pyplot.ylabel('Vrai positif')\n",
        "pyplot.legend()\n",
        "pyplot.show()"
      ],
      "id": "QRXJmM-GCtQ2",
      "execution_count": null,
      "outputs": []
    },
    {
      "cell_type": "markdown",
      "metadata": {
        "id": "fln6bLBtBFZP"
      },
      "source": [
        "![image.png](data:image/png;base64,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)"
      ],
      "id": "fln6bLBtBFZP"
    },
    {
      "cell_type": "markdown",
      "metadata": {
        "id": "YxyE3ky8CukG"
      },
      "source": [
        "# 3. Modèle de prédiction d'achat : SVM"
      ],
      "id": "YxyE3ky8CukG"
    },
    {
      "cell_type": "code",
      "metadata": {
        "id": "S8s-ikLXC3LT"
      },
      "source": [
        "from sklearn import SVC\n",
        "from sklearn import model_selection\n",
        "from sklearn.model_selection import train_test_split\n",
        "from sklearn import preprocessing\n",
        "\n",
        "X = df_visites.drop(['visitorid', 'nb_achats', 'a acheté'], axis = 'columns')\n",
        "y = df_visites['a acheté']\n",
        "\n",
        "X_train, X_test, y_train, y_test = train_test_split(X, y, random_state=50, train_size = 0.7)\n",
        "\n",
        "scaler = StandardScaler()\n",
        "X_train = scaler.fit_transform(X_train)\n",
        "X_test = scaler.transform(X_test)\n",
        "\n",
        "svm = SVC(gamma='scale')\n",
        "svm.fit(X_train, y_train)\n",
        "\n",
        "print('Score sur ensemble test', svm.score(X_test, y_test))"
      ],
      "id": "S8s-ikLXC3LT",
      "execution_count": null,
      "outputs": []
    },
    {
      "cell_type": "code",
      "metadata": {
        "id": "AsioAuFaDy7E"
      },
      "source": [
        "y_pred = svm.predict(X_test)\n",
        "\n",
        "print(pd.crosstab(y_test, y_pred, colnames=['Predictions']))"
      ],
      "id": "AsioAuFaDy7E",
      "execution_count": null,
      "outputs": []
    },
    {
      "cell_type": "markdown",
      "metadata": {
        "id": "2JRyPTolGa9Y"
      },
      "source": [
        "Accuracy score : 0,69"
      ],
      "id": "2JRyPTolGa9Y"
    },
    {
      "cell_type": "markdown",
      "metadata": {
        "id": "2OQX6XdIC3pT"
      },
      "source": [
        "# 3. Modèle de prédiction d'achat : K plus proches voisins"
      ],
      "id": "2OQX6XdIC3pT"
    },
    {
      "cell_type": "code",
      "metadata": {
        "id": "-fwykfupC5qd"
      },
      "source": [
        "# Import des bibliothèques nécessaires\n",
        "from sklearn import neighbors\n",
        "from sklearn import datasets\n",
        "from sklearn.model_selection import train_test_split\n",
        "\n",
        "\n",
        "X = df_visites.drop(['visitorid', 'nb_achats', 'a acheté'], axis = 'columns')\n",
        "y = df_visites['a acheté']\n",
        "\n",
        "X_train, X_test, y_train, y_test = train_test_split(X, y, random_state=50, train_size = 0.7)\n",
        "\n",
        "# Création du classifieur et construction du modèle sur les données d'entraînement\n",
        "# n_neigbors a été choisi grâce à la cellule suivante\n",
        "knn = neighbors.KNeighborsClassifier(n_neighbors=30, metric='minkowski')\n",
        "knn.fit(X_train, y_train)\n",
        "\n",
        "# Appliquer modèle aux données test & stocker prédictions\n",
        "y_pred = knn.predict(X_test)\n",
        "# Afficher matrice de confusion pour comparer classes réelles & prédites\n",
        "pd.crosstab(y_test, y_pred, rownames=['Classe réelle'], colnames=['Classe prédite'])\n",
        "\n",
        "#Score du modèle utilisant la distance de Minkowski\n",
        "score_minkowski = knn.score(X_test, y_test)\n"
      ],
      "id": "-fwykfupC5qd",
      "execution_count": null,
      "outputs": []
    },
    {
      "cell_type": "code",
      "metadata": {
        "id": "RCXcv2PKDZjc"
      },
      "source": [
        "## Pour confirmer le n_neighbors à prendre, on peut éxécuter la cellule suivante\n",
        "for k in range(1, 40):\n",
        "    knn = neighbors.KNeighborsClassifier(n_neighbors=k)\n",
        "    knn.fit(X_train, y_train)\n",
        "    score_minko.append(knn.score(X_test, y_test))\n",
        "\n",
        "# Afficher dans un graphique les listes créées en fonction de la valeur de k.\n",
        "import matplotlib.pyplot as plt\n",
        "%matplotlib inline\n",
        "\n",
        "plt.plot(range(1, 40), score_minko, color='blue', linestyle='dashed', lw=2, label='Minkowski')\n",
        "plt.title('Score - valeur de K')  \n",
        "plt.xlabel('Valeur de K')  \n",
        "plt.ylabel('Accuracy') \n",
        "plt.legend();"
      ],
      "id": "RCXcv2PKDZjc",
      "execution_count": null,
      "outputs": []
    },
    {
      "cell_type": "markdown",
      "metadata": {
        "id": "Sezea3j4GWUG"
      },
      "source": [
        "Accuracy score à 0,65"
      ],
      "id": "Sezea3j4GWUG"
    },
    {
      "cell_type": "markdown",
      "metadata": {
        "id": "INC9svpIo3Cr"
      },
      "source": [
        "# 3. Modèle de prédiction d'achat : meilleur modèle\n",
        "\n",
        "Le meilleur résultat est obtenu avec l'algorithme LR et SVM (0,69) et la méthode des K plus proches voisins (0,65)"
      ],
      "id": "INC9svpIo3Cr"
    },
    {
      "cell_type": "markdown",
      "metadata": {
        "id": "XdDUQAEio4cq"
      },
      "source": [
        ""
      ],
      "id": "XdDUQAEio4cq"
    }
  ]
}
